{
  "nbformat": 4,
  "nbformat_minor": 0,
  "metadata": {
    "colab": {
      "provenance": []
    },
    "kernelspec": {
      "name": "python3",
      "display_name": "Python 3"
    },
    "language_info": {
      "name": "python"
    }
  },
  "cells": [
    {
      "cell_type": "markdown",
      "source": [
        "**Task - 1** *Create a pandas dataframe (DataFrame name as 'df') with numpy random values (4 features and 4 observation)*"
      ],
      "metadata": {
        "id": "zhLw5amZux9C"
      }
    },
    {
      "cell_type": "code",
      "execution_count": null,
      "metadata": {
        "id": "Yar-gb2QuZ1I"
      },
      "outputs": [],
      "source": [
        "import pandas as pd\n",
        "import numpy as np\n",
        "\n",
        "data = np.random.rand(4, 4)  # Generate random values\n",
        "df = pd.DataFrame(data)  # Create dataframe"
      ]
    },
    {
      "cell_type": "code",
      "source": [
        "print(\"Random Values Using Numpy:\\n\", data, \"\\n\",\"Converted DataFrame:\\n\", df)"
      ],
      "metadata": {
        "colab": {
          "base_uri": "https://localhost:8080/"
        },
        "id": "TAWKn8an_ITC",
        "outputId": "c95eac93-67f6-4d0f-f7e5-d0f3beee5ac6"
      },
      "execution_count": null,
      "outputs": [
        {
          "output_type": "stream",
          "name": "stdout",
          "text": [
            "Random Values Using Numpy:\n",
            " [[0.22383452 0.15730636 0.34832955 0.39496279]\n",
            " [0.96018814 0.26952126 0.01223278 0.62138452]\n",
            " [0.38686145 0.20257079 0.82728018 0.01577007]\n",
            " [0.81247585 0.64096119 0.10230234 0.354667  ]] \n",
            " Converted DataFrame:\n",
            "           0         1         2         3\n",
            "0  0.223835  0.157306  0.348330  0.394963\n",
            "1  0.960188  0.269521  0.012233  0.621385\n",
            "2  0.386861  0.202571  0.827280  0.015770\n",
            "3  0.812476  0.640961  0.102302  0.354667\n"
          ]
        }
      ]
    },
    {
      "cell_type": "markdown",
      "source": [
        "**Task - 2** *Rename the task - 1 'df' dataframe column names to 'Random value 1', 'Random value 2', 'Random value 3' & 'Random value 4'*"
      ],
      "metadata": {
        "id": "pKd9hMLYu-9m"
      }
    },
    {
      "cell_type": "code",
      "source": [
        "df.columns = ['Random value 1', 'Random value 2', 'Random value 3', 'Random value 4']"
      ],
      "metadata": {
        "id": "BrSYTPVevXeu"
      },
      "execution_count": null,
      "outputs": []
    },
    {
      "cell_type": "code",
      "source": [
        "print(\"Renamed Column Names:\\n\", df.columns,\"\\n\", \"Updated Dataframe:\\n\", df)\n"
      ],
      "metadata": {
        "colab": {
          "base_uri": "https://localhost:8080/"
        },
        "outputId": "6d178717-72a3-43a1-910b-13fa4d74fdc7",
        "id": "3wIhSye_AfN3"
      },
      "execution_count": null,
      "outputs": [
        {
          "output_type": "stream",
          "name": "stdout",
          "text": [
            "Renamed Column Names:\n",
            " Index(['Random value 1', 'Random value 2', 'Random value 3', 'Random value 4'], dtype='object') \n",
            " Updated Dataframe:\n",
            "    Random value 1  Random value 2  Random value 3  Random value 4\n",
            "0        0.223835        0.157306        0.348330        0.394963\n",
            "1        0.960188        0.269521        0.012233        0.621385\n",
            "2        0.386861        0.202571        0.827280        0.015770\n",
            "3        0.812476        0.640961        0.102302        0.354667\n"
          ]
        }
      ]
    },
    {
      "cell_type": "markdown",
      "source": [
        "**Task - 3** *Find the descriptive statistics of the 'df' dataframe.*"
      ],
      "metadata": {
        "id": "YIAEF9LFu-3n"
      }
    },
    {
      "cell_type": "code",
      "source": [
        "statistics = df.describe() # Descriptive statistics"
      ],
      "metadata": {
        "id": "AKIt54LRvYLt"
      },
      "execution_count": null,
      "outputs": []
    },
    {
      "cell_type": "code",
      "source": [
        "print(\"Descriptive Statistics:\\n\", statistics)"
      ],
      "metadata": {
        "colab": {
          "base_uri": "https://localhost:8080/"
        },
        "id": "v0HXos_mCstv",
        "outputId": "f8070daa-9058-45e5-e5df-2f0fb810e665"
      },
      "execution_count": null,
      "outputs": [
        {
          "output_type": "stream",
          "name": "stdout",
          "text": [
            "Descriptive Statistics:\n",
            "        Random value 1  Random value 2  Random value 3  Random value 4\n",
            "count        4.000000        4.000000        4.000000        4.000000\n",
            "mean         0.595840        0.317590        0.322536        0.346696\n",
            "std          0.347247        0.220454        0.365250        0.249906\n",
            "min          0.223835        0.157306        0.012233        0.015770\n",
            "25%          0.346105        0.191255        0.079785        0.269943\n",
            "50%          0.599669        0.236046        0.225316        0.374815\n",
            "75%          0.849404        0.362381        0.468067        0.451568\n",
            "max          0.960188        0.640961        0.827280        0.621385\n"
          ]
        }
      ]
    },
    {
      "cell_type": "markdown",
      "source": [
        "**Task - 4** *Check for the null values in 'df' and find the data type of the columns.*"
      ],
      "metadata": {
        "id": "upQ7tqucu-oO"
      }
    },
    {
      "cell_type": "code",
      "source": [
        "null_values = df.isnull() # Dataframe format showing True in place of null values\n",
        "null_values_sum = df.isnull().sum() # Sum of all the null values in each column of the Dataframe\n",
        "data_types = df.dtypes # Data type of each column"
      ],
      "metadata": {
        "id": "bcIrb9qPvYcn"
      },
      "execution_count": null,
      "outputs": []
    },
    {
      "cell_type": "code",
      "source": [
        "print(\"Null Values:\\n\", null_values, \"\\n Sum Of Null Values In Each Column:\\n\", null_values_sum, \"\\n Data Types Of Columns:\\n\",data_types)"
      ],
      "metadata": {
        "colab": {
          "base_uri": "https://localhost:8080/"
        },
        "id": "BmcP3AyIC_iE",
        "outputId": "dd74e9cd-2338-48d3-e007-029cfc0f33f9"
      },
      "execution_count": null,
      "outputs": [
        {
          "output_type": "stream",
          "name": "stdout",
          "text": [
            "Null Values:\n",
            "    Random value 1  Random value 2  Random value 3  Random value 4\n",
            "0           False           False           False           False\n",
            "1           False           False           False           False\n",
            "2           False           False           False           False\n",
            "3           False           False           False           False \n",
            " Sum Of Null Values In Each Column:\n",
            " Random value 1    0\n",
            "Random value 2    0\n",
            "Random value 3    0\n",
            "Random value 4    0\n",
            "dtype: int64 \n",
            " Data Types Of Columns:\n",
            " Random value 1    float64\n",
            "Random value 2    float64\n",
            "Random value 3    float64\n",
            "Random value 4    float64\n",
            "dtype: object\n"
          ]
        }
      ]
    },
    {
      "cell_type": "markdown",
      "source": [
        "**Task - 5** *Display the 'Random value 2' & 'Random value 3' columns with location method and index location method.*"
      ],
      "metadata": {
        "id": "TN-FbZMgvRRt"
      }
    },
    {
      "cell_type": "code",
      "source": [
        "random_values_using_loc = df.loc[:, 'Random value 2':'Random value 3'] # Using location method\n",
        "random_values_using_idx = df.iloc[:, 1:3] # Using index location method (excludes 3 in the df)\n",
        "\n",
        "# Also can be written as\n",
        "# random_values_using_loc = df.loc[:, ['Random value 2', 'Random value 3']] # Using location method\n",
        "# random_values_using_idx = df.iloc[:, [1, 2]] # Using index location method\n"
      ],
      "metadata": {
        "id": "V87wVGshEfYD"
      },
      "execution_count": null,
      "outputs": []
    },
    {
      "cell_type": "code",
      "source": [
        "print(\"'Random value 2' and 'Random value 3' using location method:\\n\", random_values_using_loc)"
      ],
      "metadata": {
        "colab": {
          "base_uri": "https://localhost:8080/"
        },
        "id": "kMQFoOBrFmsZ",
        "outputId": "48dea8fe-473f-4142-98d3-ffafb09cce32"
      },
      "execution_count": null,
      "outputs": [
        {
          "output_type": "stream",
          "name": "stdout",
          "text": [
            "'Random value 2' and 'Random value 3' using location method:\n",
            "    Random value 2  Random value 3\n",
            "0        0.157306        0.348330\n",
            "1        0.269521        0.012233\n",
            "2        0.202571        0.827280\n",
            "3        0.640961        0.102302\n"
          ]
        }
      ]
    },
    {
      "cell_type": "code",
      "source": [
        "print(\"'Random value 2' and 'Random value 3' using index location method:\\n\", random_values_using_idx)"
      ],
      "metadata": {
        "colab": {
          "base_uri": "https://localhost:8080/"
        },
        "id": "LvToqLwNFt0T",
        "outputId": "fbd19237-b605-44f1-cb4e-a8510fd312dc"
      },
      "execution_count": null,
      "outputs": [
        {
          "output_type": "stream",
          "name": "stdout",
          "text": [
            "'Random value 2' and 'Random value 3' using index location method:\n",
            "    Random value 2  Random value 3\n",
            "0        0.157306        0.348330\n",
            "1        0.269521        0.012233\n",
            "2        0.202571        0.827280\n",
            "3        0.640961        0.102302\n"
          ]
        }
      ]
    }
  ]
}