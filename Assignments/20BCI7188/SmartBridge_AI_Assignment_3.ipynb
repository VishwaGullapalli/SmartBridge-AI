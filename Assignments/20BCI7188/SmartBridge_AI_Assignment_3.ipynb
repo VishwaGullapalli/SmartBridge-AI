{
  "cells": [
    {
      "cell_type": "markdown",
      "source": [
        "**Build a CNN model for Bird species**\n",
        "\n",
        "Bird species classification is the process of using machine learning and computer vision techniques to identify and categorize different species of birds based on their visual characteristics. By analyzing images of birds, models can extract features and patterns to accurately classify bird species. This classification is vital for ecological research, wildlife monitoring, and conservation efforts. Advancements in deep learning and the availability of large annotated datasets have improved the accuracy of bird species classification models. Challenges include variations in lighting, pose, and background clutter. Ongoing research focuses on methods like transfer learning and data augmentation to enhance classification performance and contribute to avian biodiversity understanding and conservation.\n",
        "\n",
        "Dataset Link: https://www.kaggle.com/datasets/akash2907/bird-species-classification"
      ],
      "metadata": {
        "id": "BLiCzzoCJI1L"
      }
    },
    {
      "cell_type": "code",
      "execution_count": null,
      "metadata": {
        "colab": {
          "base_uri": "https://localhost:8080/"
        },
        "id": "24XZRe_NvhF8",
        "outputId": "2ad11a37-61c8-490a-c1f9-25c96813b252"
      },
      "outputs": [
        {
          "output_type": "stream",
          "name": "stdout",
          "text": [
            "Mounted at /content/drive\n"
          ]
        }
      ],
      "source": [
        "# Mount Google Drive\n",
        "from google.colab import drive\n",
        "drive.mount('/content/drive')"
      ]
    },
    {
      "cell_type": "code",
      "execution_count": null,
      "metadata": {
        "id": "Ox-EfQc3vjAE"
      },
      "outputs": [],
      "source": [
        "# Import Kaggle API key from Google Drive\n",
        "import os\n",
        "os.environ['KAGGLE_CONFIG_DIR'] = \"/content/drive/MyDrive/Colab Notebooks/SmartBridge\""
      ]
    },
    {
      "cell_type": "code",
      "execution_count": null,
      "metadata": {
        "colab": {
          "base_uri": "https://localhost:8080/"
        },
        "id": "mmUMnLu5vjj2",
        "outputId": "4047dce9-8189-44fd-dffe-f9c28581ea2b"
      },
      "outputs": [
        {
          "output_type": "stream",
          "name": "stdout",
          "text": [
            "Downloading bird-species-classification.zip to /content\n",
            " 99% 1.36G/1.37G [00:23<00:00, 97.1MB/s]\n",
            "100% 1.37G/1.37G [00:23<00:00, 62.7MB/s]\n"
          ]
        }
      ],
      "source": [
        "# Download the dataset from Kaggle using datasets API command\n",
        "!kaggle datasets download -d akash2907/bird-species-classification"
      ]
    },
    {
      "cell_type": "code",
      "execution_count": null,
      "metadata": {
        "colab": {
          "base_uri": "https://localhost:8080/"
        },
        "id": "sWQQwL8esP-b",
        "outputId": "563232f5-8446-4509-b440-d75679ce3cc4"
      },
      "outputs": [
        {
          "output_type": "stream",
          "name": "stdout",
          "text": [
            "Archive:  /content/bird-species-classification.zip\n",
            "  inflating: test_data/test_data/blasti/DSC_6396.jpg  \n",
            "  inflating: test_data/test_data/blasti/DSC_6397.jpg  \n",
            "  inflating: test_data/test_data/blasti/DSC_6398.jpg  \n",
            "  inflating: test_data/test_data/blasti/DSC_6399.jpg  \n",
            "  inflating: test_data/test_data/blasti/DSC_6400.jpg  \n",
            "  inflating: test_data/test_data/blasti/DSC_6401.jpg  \n",
            "  inflating: test_data/test_data/blasti/DSC_6402.jpg  \n",
            "  inflating: test_data/test_data/blasti/DSC_6403.jpg  \n",
            "  inflating: test_data/test_data/blasti/DSC_6405.jpg  \n",
            "  inflating: test_data/test_data/blasti/DSC_6406.jpg  \n",
            "  inflating: test_data/test_data/blasti/DSC_6407.jpg  \n",
            "  inflating: test_data/test_data/blasti/DSC_6408.jpg  \n",
            "  inflating: test_data/test_data/blasti/DSC_6409.jpg  \n",
            "  inflating: test_data/test_data/blasti/DSC_6410.jpg  \n",
            "  inflating: test_data/test_data/blasti/DSC_6411.jpg  \n",
            "  inflating: test_data/test_data/bonegl/DSC_4587.jpg  \n",
            "  inflating: test_data/test_data/bonegl/DSC_4588.jpg  \n",
            "  inflating: test_data/test_data/bonegl/DSC_4589.jpg  \n",
            "  inflating: test_data/test_data/bonegl/DSC_4590.jpg  \n",
            "  inflating: test_data/test_data/bonegl/DSC_4591.jpg  \n",
            "  inflating: test_data/test_data/bonegl/DSC_4592.jpg  \n",
            "  inflating: test_data/test_data/bonegl/DSC_4593.jpg  \n",
            "  inflating: test_data/test_data/brhkyt/D72_0473.jpg  \n",
            "  inflating: test_data/test_data/brhkyt/D72_0474.jpg  \n",
            "  inflating: test_data/test_data/brhkyt/D72_0475.jpg  \n",
            "  inflating: test_data/test_data/brhkyt/D72_0477.jpg  \n",
            "  inflating: test_data/test_data/brhkyt/D72_0478.jpg  \n",
            "  inflating: test_data/test_data/brhkyt/D72_0479.jpg  \n",
            "  inflating: test_data/test_data/cbrtsh/_D32_10310.jpg  \n",
            "  inflating: test_data/test_data/cbrtsh/_D32_10311.jpg  \n",
            "  inflating: test_data/test_data/cbrtsh/_D32_10312.jpg  \n",
            "  inflating: test_data/test_data/cbrtsh/_D32_10313.jpg  \n",
            "  inflating: test_data/test_data/cbrtsh/_D32_10314.jpg  \n",
            "  inflating: test_data/test_data/cbrtsh/_D32_10317.jpg  \n",
            "  inflating: test_data/test_data/cbrtsh/_D32_10318.jpg  \n",
            "  inflating: test_data/test_data/cmnmyn/DSC_2443.jpg  \n",
            "  inflating: test_data/test_data/cmnmyn/DSC_4681.jpg  \n",
            "  inflating: test_data/test_data/cmnmyn/DSC_5137.jpg  \n",
            "  inflating: test_data/test_data/cmnmyn/DSC_7625.jpg  \n",
            "  inflating: test_data/test_data/cmnmyn/P1050277.jpg  \n",
            "  inflating: test_data/test_data/cmnmyn/_D32_12426.jpg  \n",
            "  inflating: test_data/test_data/cmnmyn/_D32_12427.jpg  \n",
            "  inflating: test_data/test_data/cmnmyn/_D32_12428.jpg  \n",
            "  inflating: test_data/test_data/gretit/11620454726_31a35c26da_o.jpg  \n",
            "  inflating: test_data/test_data/gretit/11776135285_ccf938fa2e_o.jpg  \n",
            "  inflating: test_data/test_data/gretit/11905645146_6a5d4ff9f9_o.jpg  \n",
            "  inflating: test_data/test_data/gretit/8537646712_0b282c4c6a_o.jpg  \n",
            "  inflating: test_data/test_data/gretit/D72_0693.jpg  \n",
            "  inflating: test_data/test_data/gretit/D72_0694.jpg  \n",
            "  inflating: test_data/test_data/gretit/D72_0695.jpg  \n",
            "  inflating: test_data/test_data/hilpig/DSC_6359.jpg  \n",
            "  inflating: test_data/test_data/hilpig/DSC_6362.jpg  \n",
            "  inflating: test_data/test_data/hilpig/DSC_6364.jpg  \n",
            "  inflating: test_data/test_data/hilpig/DSC_6368.jpg  \n",
            "  inflating: test_data/test_data/hilpig/DSC_6403.jpg  \n",
            "  inflating: test_data/test_data/hilpig/DSC_6404.jpg  \n",
            "  inflating: test_data/test_data/hilpig/P1000319.jpg  \n",
            "  inflating: test_data/test_data/hilpig/P1000323.jpg  \n",
            "  inflating: test_data/test_data/hilpig/P1050044.jpg  \n",
            "  inflating: test_data/test_data/hilpig/P1050045.jpg  \n",
            "  inflating: test_data/test_data/himbul/11602064885_3826df4500_o.jpg  \n",
            "  inflating: test_data/test_data/himbul/11619942574_42f23a7b05_o.jpg  \n",
            "  inflating: test_data/test_data/himbul/11620097904_33fa8ee878_o.jpg  \n",
            "  inflating: test_data/test_data/himbul/5857371972_ed4f88b275_o.jpg  \n",
            "  inflating: test_data/test_data/himbul/6154954471_eefe6e00d1_o.jpg  \n",
            "  inflating: test_data/test_data/himbul/D72_0688.jpg  \n",
            "  inflating: test_data/test_data/himbul/D72_0691.jpg  \n",
            "  inflating: test_data/test_data/himbul/DSC08357.jpg  \n",
            "  inflating: test_data/test_data/himbul/DSC_3230.jpg  \n",
            "  inflating: test_data/test_data/himbul/DSC_7439.jpg  \n",
            "  inflating: test_data/test_data/himbul/DSC_7602.jpg  \n",
            "  inflating: test_data/test_data/himbul/P1060368.jpg  \n",
            "  inflating: test_data/test_data/himbul/P1060369.jpg  \n",
            "  inflating: test_data/test_data/himbul/_D32_10242.jpg  \n",
            "  inflating: test_data/test_data/himbul/_D32_10245.jpg  \n",
            "  inflating: test_data/test_data/himbul/_D32_10251.jpg  \n",
            "  inflating: test_data/test_data/himbul/_D32_10319.jpg  \n",
            "  inflating: test_data/test_data/himbul/_D32_10320.jpg  \n",
            "  inflating: test_data/test_data/himbul/_DSC9446.jpg  \n",
            "  inflating: test_data/test_data/himgri/IMG_5384.JPG  \n",
            "  inflating: test_data/test_data/himgri/IMG_5385.JPG  \n",
            "  inflating: test_data/test_data/himgri/IMG_5386.JPG  \n",
            "  inflating: test_data/test_data/himgri/IMG_5387.JPG  \n",
            "  inflating: test_data/test_data/himgri/IMG_5459.JPG  \n",
            "  inflating: test_data/test_data/himgri/IMG_5460.JPG  \n",
            "  inflating: test_data/test_data/himgri/IMG_5487.JPG  \n",
            "  inflating: test_data/test_data/himgri/IMG_5488.JPG  \n",
            "  inflating: test_data/test_data/himgri/IMG_5489.JPG  \n",
            "  inflating: test_data/test_data/himgri/IMG_5490.JPG  \n",
            "  inflating: test_data/test_data/himgri/IMG_5491.JPG  \n",
            "  inflating: test_data/test_data/himgri/IMG_5492.JPG  \n",
            "  inflating: test_data/test_data/himgri/P1020742.jpg  \n",
            "  inflating: test_data/test_data/himgri/P1020743.jpg  \n",
            "  inflating: test_data/test_data/himgri/P1020746.jpg  \n",
            "  inflating: test_data/test_data/himgri/P1020748.jpg  \n",
            "  inflating: test_data/test_data/himgri/P1030055.jpg  \n",
            "  inflating: test_data/test_data/himgri/P1060776.jpg  \n",
            "  inflating: test_data/test_data/himgri/P1060777.jpg  \n",
            "  inflating: test_data/test_data/himgri/P1060778.jpg  \n",
            "  inflating: test_data/test_data/hsparo/100_5573.JPG  \n",
            "  inflating: test_data/test_data/hsparo/100_5585.JPG  \n",
            "  inflating: test_data/test_data/hsparo/100_5586.JPG  \n",
            "  inflating: test_data/test_data/hsparo/100_5742.JPG  \n",
            "  inflating: test_data/test_data/hsparo/12265273154_48e0fefd42_o.jpg  \n",
            "  inflating: test_data/test_data/hsparo/DSC_4521.jpg  \n",
            "  inflating: test_data/test_data/hsparo/DSC_7619.jpg  \n",
            "  inflating: test_data/test_data/hsparo/_DSC_11244.jpg  \n",
            "  inflating: test_data/test_data/hsparo/_DSC_11246.jpg  \n",
            "  inflating: test_data/test_data/indvul/DSC_1263.jpg  \n",
            "  inflating: test_data/test_data/indvul/DSC_1273.jpg  \n",
            "  inflating: test_data/test_data/indvul/DSC_1274.jpg  \n",
            "  inflating: test_data/test_data/indvul/DSC_1275.jpg  \n",
            "  inflating: test_data/test_data/indvul/DSC_1277.jpg  \n",
            "  inflating: test_data/test_data/indvul/_DSC8754.jpg  \n",
            "  inflating: test_data/test_data/indvul/_DSC9520.jpg  \n",
            "  inflating: test_data/test_data/indvul/_DSC9521.jpg  \n",
            "  inflating: test_data/test_data/indvul/_DSC9523.jpg  \n",
            "  inflating: test_data/test_data/jglowl/_D32_10584.jpg  \n",
            "  inflating: test_data/test_data/jglowl/_D32_10587.jpg  \n",
            "  inflating: test_data/test_data/jglowl/_D32_10593.jpg  \n",
            "  inflating: test_data/test_data/jglowl/_D32_13515.jpg  \n",
            "  inflating: test_data/test_data/jglowl/_D32_13516.jpg  \n",
            "  inflating: test_data/test_data/jglowl/_D32_13517.jpg  \n",
            "  inflating: test_data/test_data/lbicrw/100_4917.JPG  \n",
            "  inflating: test_data/test_data/lbicrw/IMG_5538.JPG  \n",
            "  inflating: test_data/test_data/lbicrw/IMG_5541.JPG  \n",
            "  inflating: test_data/test_data/lbicrw/IMG_5543.JPG  \n",
            "  inflating: test_data/test_data/lbicrw/IMG_5544.JPG  \n",
            "  inflating: test_data/test_data/lbicrw/P1030030.jpg  \n",
            "  inflating: test_data/test_data/mgprob/100_5811.JPG  \n",
            "  inflating: test_data/test_data/mgprob/100_5812.JPG  \n",
            "  inflating: test_data/test_data/mgprob/100_5813.JPG  \n",
            "  inflating: test_data/test_data/mgprob/DSC_3233.jpg  \n",
            "  inflating: test_data/test_data/mgprob/_DSC0085.jpg  \n",
            "  inflating: test_data/test_data/mgprob/_DSC0133.jpg  \n",
            "  inflating: test_data/test_data/mgprob/_DSC0135.jpg  \n",
            "  inflating: test_data/test_data/rebimg/100_5756.JPG  \n",
            "  inflating: test_data/test_data/rebimg/100_5757.JPG  \n",
            "  inflating: test_data/test_data/rebimg/100_5758.JPG  \n",
            "  inflating: test_data/test_data/rebimg/100_5759.JPG  \n",
            "  inflating: test_data/test_data/rebimg/100_5760.JPG  \n",
            "  inflating: test_data/test_data/rebimg/13009302395_5d88a9d62b_o.jpg  \n",
            "  inflating: test_data/test_data/rebimg/13009315305_f1cbfb6767_o.jpg  \n",
            "  inflating: test_data/test_data/rebimg/13009451823_8eb502581f_o.jpg  \n",
            "  inflating: test_data/test_data/rebimg/DSC_7148.jpg  \n",
            "  inflating: test_data/test_data/rebimg/IMG_5251.JPG  \n",
            "  inflating: test_data/test_data/rebimg/IMG_5252.JPG  \n",
            "  inflating: test_data/test_data/wcrsrt/100_4462.JPG  \n",
            "  inflating: test_data/test_data/wcrsrt/100_4463.JPG  \n",
            "  inflating: test_data/test_data/wcrsrt/100_4464.JPG  \n",
            "  inflating: test_data/test_data/wcrsrt/100_4466.JPG  \n",
            "  inflating: test_data/test_data/wcrsrt/100_4467.JPG  \n",
            "  inflating: test_data/test_data/wcrsrt/100_4468.JPG  \n",
            "  inflating: test_data/test_data/wcrsrt/100_5103.JPG  \n",
            "  inflating: test_data/test_data/wcrsrt/100_5105.JPG  \n",
            "  inflating: test_data/test_data/wcrsrt/11382677585_ef6570a041_o.jpg  \n",
            "  inflating: test_data/test_data/wcrsrt/11382746854_7ce73793b3_o.jpg  \n",
            "  inflating: train_data/train_data/blasti/DSC_6382.jpg  \n",
            "  inflating: train_data/train_data/blasti/DSC_6383.jpg  \n",
            "  inflating: train_data/train_data/blasti/DSC_6384-2.jpg  \n",
            "  inflating: train_data/train_data/blasti/DSC_6384.jpg  \n",
            "  inflating: train_data/train_data/blasti/DSC_6385.jpg  \n",
            "  inflating: train_data/train_data/blasti/DSC_6386.jpg  \n",
            "  inflating: train_data/train_data/blasti/DSC_6387.jpg  \n",
            "  inflating: train_data/train_data/blasti/DSC_6388.jpg  \n",
            "  inflating: train_data/train_data/blasti/DSC_6389.jpg  \n",
            "  inflating: train_data/train_data/blasti/DSC_6390.jpg  \n",
            "  inflating: train_data/train_data/blasti/DSC_6391.jpg  \n",
            "  inflating: train_data/train_data/blasti/DSC_6392.jpg  \n",
            "  inflating: train_data/train_data/blasti/DSC_6393.jpg  \n",
            "  inflating: train_data/train_data/blasti/DSC_6394.jpg  \n",
            "  inflating: train_data/train_data/blasti/DSC_6395.jpg  \n",
            "  inflating: train_data/train_data/bonegl/DSC_4570.jpg  \n",
            "  inflating: train_data/train_data/bonegl/DSC_4571.jpg  \n",
            "  inflating: train_data/train_data/bonegl/DSC_4583.jpg  \n",
            "  inflating: train_data/train_data/bonegl/DSC_4584.jpg  \n",
            "  inflating: train_data/train_data/bonegl/DSC_4585.jpg  \n",
            "  inflating: train_data/train_data/bonegl/DSC_4586.jpg  \n",
            "  inflating: train_data/train_data/brhkyt/D72_0400.jpg  \n",
            "  inflating: train_data/train_data/brhkyt/D72_0401.jpg  \n",
            "  inflating: train_data/train_data/brhkyt/D72_0470.jpg  \n",
            "  inflating: train_data/train_data/brhkyt/D72_0471.jpg  \n",
            "  inflating: train_data/train_data/brhkyt/D72_0472.jpg  \n",
            "  inflating: train_data/train_data/cbrtsh/100_5097.JPG  \n",
            "  inflating: train_data/train_data/cbrtsh/_D32_10303.jpg  \n",
            "  inflating: train_data/train_data/cbrtsh/_D32_10305.jpg  \n",
            "  inflating: train_data/train_data/cbrtsh/_D32_10306.jpg  \n",
            "  inflating: train_data/train_data/cbrtsh/_D32_10307.jpg  \n",
            "  inflating: train_data/train_data/cbrtsh/_D32_10308.jpg  \n",
            "  inflating: train_data/train_data/cbrtsh/_D32_10309.jpg  \n",
            "  inflating: train_data/train_data/cmnmyn/100_5763.JPG  \n",
            "  inflating: train_data/train_data/cmnmyn/5866682091_870ccc946c_o.jpg  \n",
            "  inflating: train_data/train_data/cmnmyn/6154956165_64266b8b53_o.jpg  \n",
            "  inflating: train_data/train_data/cmnmyn/DSCN5784.jpg  \n",
            "  inflating: train_data/train_data/cmnmyn/DSCN5787.jpg  \n",
            "  inflating: train_data/train_data/cmnmyn/DSCN5790.jpg  \n",
            "  inflating: train_data/train_data/cmnmyn/DSCN5791.jpg  \n",
            "  inflating: train_data/train_data/gretit/100_5042.JPG  \n",
            "  inflating: train_data/train_data/gretit/100_5043.JPG  \n",
            "  inflating: train_data/train_data/gretit/100_5044.JPG  \n",
            "  inflating: train_data/train_data/gretit/100_5045.JPG  \n",
            "  inflating: train_data/train_data/gretit/100_5046.JPG  \n",
            "  inflating: train_data/train_data/gretit/100_5047.JPG  \n",
            "  inflating: train_data/train_data/hilpig/DSC_6272.jpg  \n",
            "  inflating: train_data/train_data/hilpig/DSC_6273.jpg  \n",
            "  inflating: train_data/train_data/hilpig/DSC_6274.jpg  \n",
            "  inflating: train_data/train_data/hilpig/DSC_6275.jpg  \n",
            "  inflating: train_data/train_data/hilpig/DSC_6350.jpg  \n",
            "  inflating: train_data/train_data/hilpig/DSC_6351.jpg  \n",
            "  inflating: train_data/train_data/hilpig/DSC_6352.jpg  \n",
            "  inflating: train_data/train_data/hilpig/DSC_6353.jpg  \n",
            "  inflating: train_data/train_data/hilpig/DSC_6354.jpg  \n",
            "  inflating: train_data/train_data/hilpig/DSC_6358.jpg  \n",
            "  inflating: train_data/train_data/himbul/100_5028.JPG  \n",
            "  inflating: train_data/train_data/himbul/100_5029.JPG  \n",
            "  inflating: train_data/train_data/himbul/100_5096.JPG  \n",
            "  inflating: train_data/train_data/himbul/100_5099.JPG  \n",
            "  inflating: train_data/train_data/himbul/100_5100.JPG  \n",
            "  inflating: train_data/train_data/himbul/100_5102.JPG  \n",
            "  inflating: train_data/train_data/himbul/100_5110.JPG  \n",
            "  inflating: train_data/train_data/himbul/100_5112.JPG  \n",
            "  inflating: train_data/train_data/himbul/100_5113.JPG  \n",
            "  inflating: train_data/train_data/himbul/100_5159.JPG  \n",
            "  inflating: train_data/train_data/himbul/100_5160.JPG  \n",
            "  inflating: train_data/train_data/himbul/100_5161.JPG  \n",
            "  inflating: train_data/train_data/himbul/100_5162.JPG  \n",
            "  inflating: train_data/train_data/himbul/10774570945_9bc537c255_o.jpg  \n",
            "  inflating: train_data/train_data/himbul/11383838134_96e891a316_o.jpg  \n",
            "  inflating: train_data/train_data/himbul/11383857084_cdd7514746_o.jpg  \n",
            "  inflating: train_data/train_data/himbul/11387473723_464965720a_o.jpg  \n",
            "  inflating: train_data/train_data/himbul/9007817678_24db19fc63_o.jpg  \n",
            "  inflating: train_data/train_data/himgri/12029790563_2fe54a68aa_o.jpg  \n",
            "  inflating: train_data/train_data/himgri/12029822653_1185544e7b_o.jpg  \n",
            "  inflating: train_data/train_data/himgri/12029933015_802428e277_o.jpg  \n",
            "  inflating: train_data/train_data/himgri/12029987304_031b7a2d53_o.jpg  \n",
            "  inflating: train_data/train_data/himgri/12030165813_f5341e8ed0_o.jpg  \n",
            "  inflating: train_data/train_data/himgri/12030221124_1baaf905d1_o.jpg  \n",
            "  inflating: train_data/train_data/himgri/12030269234_1c3f5a8e8c_o.jpg  \n",
            "  inflating: train_data/train_data/himgri/12152037683_13e1556c41_o.jpg  \n",
            "  inflating: train_data/train_data/himgri/12152178844_dc29e3126f_o.jpg  \n",
            "  inflating: train_data/train_data/himgri/12152510436_23b62fed3b_o.jpg  \n",
            "  inflating: train_data/train_data/himgri/12265055185_138e3c7c70_o.jpg  \n",
            "  inflating: train_data/train_data/himgri/12265498144_d2e80faa3b_o.jpg  \n",
            "  inflating: train_data/train_data/himgri/12265561764_4814951031_o.jpg  \n",
            "  inflating: train_data/train_data/himgri/12265582724_61cb64e73a_o.jpg  \n",
            "  inflating: train_data/train_data/himgri/12265738206_2b9b25cc8a_o.jpg  \n",
            "  inflating: train_data/train_data/himgri/12265747116_d4b4fa3741_o.jpg  \n",
            "  inflating: train_data/train_data/himgri/12266053036_fcab92d8e8_o.jpg  \n",
            "  inflating: train_data/train_data/himgri/12266077576_1d7143aaf7_o.jpg  \n",
            "  inflating: train_data/train_data/himgri/12266086526_82cd337667_o.jpg  \n",
            "  inflating: train_data/train_data/himgri/IMG_5463.JPG  \n",
            "  inflating: train_data/train_data/hsparo/100_4757.JPG  \n",
            "  inflating: train_data/train_data/hsparo/100_4758.JPG  \n",
            "  inflating: train_data/train_data/hsparo/100_5039.JPG  \n",
            "  inflating: train_data/train_data/hsparo/100_5040.JPG  \n",
            "  inflating: train_data/train_data/hsparo/100_5041.JPG  \n",
            "  inflating: train_data/train_data/hsparo/100_5048.JPG  \n",
            "  inflating: train_data/train_data/hsparo/100_5049.JPG  \n",
            "  inflating: train_data/train_data/hsparo/100_5050.JPG  \n",
            "  inflating: train_data/train_data/hsparo/100_5572.JPG  \n",
            "  inflating: train_data/train_data/indvul/DSC_0502.jpg  \n",
            "  inflating: train_data/train_data/indvul/DSC_0571e.jpg  \n",
            "  inflating: train_data/train_data/indvul/DSC_0572.jpg  \n",
            "  inflating: train_data/train_data/indvul/DSC_0576e.jpg  \n",
            "  inflating: train_data/train_data/indvul/DSC_0582.jpg  \n",
            "  inflating: train_data/train_data/indvul/DSC_0583e.jpg  \n",
            "  inflating: train_data/train_data/indvul/DSC_0584.jpg  \n",
            "  inflating: train_data/train_data/indvul/DSC_0616c.jpg  \n",
            "  inflating: train_data/train_data/indvul/DSC_0617.jpg  \n",
            "  inflating: train_data/train_data/jglowl/12152151476_7a1524aabb_o.jpg  \n",
            "  inflating: train_data/train_data/jglowl/DSC01335.jpg  \n",
            "  inflating: train_data/train_data/jglowl/DSC01336.jpg  \n",
            "  inflating: train_data/train_data/jglowl/_D32_10285.jpg  \n",
            "  inflating: train_data/train_data/jglowl/_D32_10578.jpg  \n",
            "  inflating: train_data/train_data/jglowl/_D32_10583.jpg  \n",
            "  inflating: train_data/train_data/lbicrw/100_4037.JPG  \n",
            "  inflating: train_data/train_data/lbicrw/100_4912.JPG  \n",
            "  inflating: train_data/train_data/lbicrw/100_4913.JPG  \n",
            "  inflating: train_data/train_data/lbicrw/100_4914.JPG  \n",
            "  inflating: train_data/train_data/lbicrw/100_4915.JPG  \n",
            "  inflating: train_data/train_data/lbicrw/100_4916.JPG  \n",
            "  inflating: train_data/train_data/mgprob/100_5587.JPG  \n",
            "  inflating: train_data/train_data/mgprob/100_5588.JPG  \n",
            "  inflating: train_data/train_data/mgprob/100_5589.JPG  \n",
            "  inflating: train_data/train_data/mgprob/100_5590.JPG  \n",
            "  inflating: train_data/train_data/mgprob/100_5592.JPG  \n",
            "  inflating: train_data/train_data/mgprob/100_5762.JPG  \n",
            "  inflating: train_data/train_data/rebimg/100_5744.JPG  \n",
            "  inflating: train_data/train_data/rebimg/100_5745.JPG  \n",
            "  inflating: train_data/train_data/rebimg/100_5746.JPG  \n",
            "  inflating: train_data/train_data/rebimg/100_5748.JPG  \n",
            "  inflating: train_data/train_data/rebimg/100_5749.JPG  \n",
            "  inflating: train_data/train_data/rebimg/100_5750.JPG  \n",
            "  inflating: train_data/train_data/rebimg/100_5751.JPG  \n",
            "  inflating: train_data/train_data/rebimg/100_5752.JPG  \n",
            "  inflating: train_data/train_data/rebimg/100_5754.JPG  \n",
            "  inflating: train_data/train_data/rebimg/100_5755.JPG  \n",
            "  inflating: train_data/train_data/wcrsrt/100_4452.JPG  \n",
            "  inflating: train_data/train_data/wcrsrt/100_4453.JPG  \n",
            "  inflating: train_data/train_data/wcrsrt/100_4454.JPG  \n",
            "  inflating: train_data/train_data/wcrsrt/100_4455.JPG  \n",
            "  inflating: train_data/train_data/wcrsrt/100_4456.JPG  \n",
            "  inflating: train_data/train_data/wcrsrt/100_4457.JPG  \n",
            "  inflating: train_data/train_data/wcrsrt/100_4458.JPG  \n",
            "  inflating: train_data/train_data/wcrsrt/100_4459.JPG  \n",
            "  inflating: train_data/train_data/wcrsrt/100_4460.JPG  \n",
            "  inflating: train_data/train_data/wcrsrt/100_4461.JPG  \n"
          ]
        }
      ],
      "source": [
        "# Extract dataset from zip file\n",
        "!unzip '/content/bird-species-classification.zip'"
      ]
    },
    {
      "cell_type": "code",
      "execution_count": null,
      "metadata": {
        "id": "nUGSbmlJzkoF"
      },
      "outputs": [],
      "source": [
        "# Data Augmentation\n",
        "from tensorflow.keras.preprocessing.image import ImageDataGenerator"
      ]
    },
    {
      "cell_type": "code",
      "execution_count": null,
      "metadata": {
        "id": "XkfTIw0x2BrP"
      },
      "outputs": [],
      "source": [
        "# Rescale generator of train and test images\n",
        "train_gen = ImageDataGenerator(rescale=(1./255),horizontal_flip=True,shear_range=0.2)\n",
        "test_gen = ImageDataGenerator(rescale=(1./255))  #--> (0 to 255) convert to (0 to 1)"
      ]
    },
    {
      "cell_type": "code",
      "execution_count": null,
      "metadata": {
        "colab": {
          "base_uri": "https://localhost:8080/"
        },
        "id": "NDYmhnHH3N_a",
        "outputId": "a3ed5988-96c5-427c-bff3-5fcdc978ee1b"
      },
      "outputs": [
        {
          "output_type": "stream",
          "name": "stdout",
          "text": [
            "Found 150 images belonging to 16 classes.\n",
            "Found 157 images belonging to 16 classes.\n"
          ]
        }
      ],
      "source": [
        "# Divide train and test data\n",
        "train = train_gen.flow_from_directory('/content/train_data/train_data', target_size=(120, 120), class_mode='categorical', batch_size=8)\n",
        "test = test_gen.flow_from_directory('/content/test_data/test_data', target_size=(120, 120), class_mode='categorical', batch_size=8)"
      ]
    },
    {
      "cell_type": "code",
      "execution_count": null,
      "metadata": {
        "colab": {
          "base_uri": "https://localhost:8080/"
        },
        "id": "wQqR7y8-v6gF",
        "outputId": "e5e64c07-a854-434c-dc29-14de507163a6"
      },
      "outputs": [
        {
          "output_type": "execute_result",
          "data": {
            "text/plain": [
              "(120, 120, 3)"
            ]
          },
          "metadata": {},
          "execution_count": 8
        }
      ],
      "source": [
        "# Dimensions of Train\n",
        "train.image_shape"
      ]
    },
    {
      "cell_type": "code",
      "execution_count": null,
      "metadata": {
        "colab": {
          "base_uri": "https://localhost:8080/"
        },
        "id": "dCB33Avuv6ad",
        "outputId": "22a85263-1b92-458e-f523-4905ca995cd4"
      },
      "outputs": [
        {
          "output_type": "execute_result",
          "data": {
            "text/plain": [
              "(120, 120, 3)"
            ]
          },
          "metadata": {},
          "execution_count": 9
        }
      ],
      "source": [
        "# Dimensions of Test\n",
        "test.image_shape"
      ]
    },
    {
      "cell_type": "code",
      "execution_count": null,
      "metadata": {
        "colab": {
          "base_uri": "https://localhost:8080/"
        },
        "id": "fg7Q_9Zj879m",
        "outputId": "3a030983-fb1a-491c-866c-b9282a9db948"
      },
      "outputs": [
        {
          "output_type": "execute_result",
          "data": {
            "text/plain": [
              "{'blasti': 0,\n",
              " 'bonegl': 1,\n",
              " 'brhkyt': 2,\n",
              " 'cbrtsh': 3,\n",
              " 'cmnmyn': 4,\n",
              " 'gretit': 5,\n",
              " 'hilpig': 6,\n",
              " 'himbul': 7,\n",
              " 'himgri': 8,\n",
              " 'hsparo': 9,\n",
              " 'indvul': 10,\n",
              " 'jglowl': 11,\n",
              " 'lbicrw': 12,\n",
              " 'mgprob': 13,\n",
              " 'rebimg': 14,\n",
              " 'wcrsrt': 15}"
            ]
          },
          "metadata": {},
          "execution_count": 10
        }
      ],
      "source": [
        "# Class names in train\n",
        "train.class_indices"
      ]
    },
    {
      "cell_type": "code",
      "execution_count": null,
      "metadata": {
        "id": "2vf5OmAM4sgC"
      },
      "outputs": [],
      "source": [
        "# Import required CNN libraries\n",
        "from tensorflow.keras.layers import Convolution2D,MaxPooling2D,Flatten,Dense\n",
        "from tensorflow.keras.models import Sequential"
      ]
    },
    {
      "cell_type": "code",
      "execution_count": null,
      "metadata": {
        "id": "r3xh_Gmp6o1o"
      },
      "outputs": [],
      "source": [
        "# Building model\n",
        "model = Sequential()\n",
        "model.add(Convolution2D(20,(3,3),activation='relu',input_shape=(120, 120, 3)))\n",
        "model.add(MaxPooling2D(pool_size=(2,2)))\n",
        "model.add(Flatten())\n",
        "model.add(Dense(45,activation='relu'))\n",
        "model.add(Dense(16,activation='softmax'))"
      ]
    },
    {
      "cell_type": "code",
      "execution_count": null,
      "metadata": {
        "id": "SEj1_-VG8SNi"
      },
      "outputs": [],
      "source": [
        "# Compile model\n",
        "model.compile(optimizer='adam',loss='categorical_crossentropy',metrics=['accuracy'])"
      ]
    },
    {
      "cell_type": "code",
      "execution_count": null,
      "metadata": {
        "colab": {
          "base_uri": "https://localhost:8080/"
        },
        "id": "_fkBCU4A9tZX",
        "outputId": "914e9412-b24d-466a-e2b7-1fb0c0421987"
      },
      "outputs": [
        {
          "output_type": "stream",
          "name": "stdout",
          "text": [
            "Epoch 1/10\n",
            "19/19 [==============================] - 95s 5s/step - loss: 3.8815 - accuracy: 0.1267 - val_loss: 2.7864 - val_accuracy: 0.1656\n",
            "Epoch 2/10\n",
            "19/19 [==============================] - 82s 4s/step - loss: 2.5207 - accuracy: 0.2133 - val_loss: 2.7078 - val_accuracy: 0.1083\n",
            "Epoch 3/10\n",
            "19/19 [==============================] - 83s 5s/step - loss: 2.3880 - accuracy: 0.2533 - val_loss: 2.7299 - val_accuracy: 0.1274\n",
            "Epoch 4/10\n",
            "19/19 [==============================] - 84s 5s/step - loss: 2.1654 - accuracy: 0.2933 - val_loss: 2.7501 - val_accuracy: 0.0701\n",
            "Epoch 5/10\n",
            "19/19 [==============================] - 82s 4s/step - loss: 1.9518 - accuracy: 0.3467 - val_loss: 2.7405 - val_accuracy: 0.0701\n",
            "Epoch 6/10\n",
            "19/19 [==============================] - 85s 5s/step - loss: 1.7734 - accuracy: 0.4333 - val_loss: 2.8200 - val_accuracy: 0.1401\n",
            "Epoch 7/10\n",
            "19/19 [==============================] - 83s 4s/step - loss: 1.5731 - accuracy: 0.5200 - val_loss: 2.9054 - val_accuracy: 0.1401\n",
            "Epoch 8/10\n",
            "19/19 [==============================] - 85s 5s/step - loss: 1.3851 - accuracy: 0.5467 - val_loss: 3.3038 - val_accuracy: 0.1656\n",
            "Epoch 9/10\n",
            "19/19 [==============================] - 84s 4s/step - loss: 1.1899 - accuracy: 0.6667 - val_loss: 2.8206 - val_accuracy: 0.2357\n",
            "Epoch 10/10\n",
            "19/19 [==============================] - 85s 5s/step - loss: 1.0205 - accuracy: 0.6800 - val_loss: 3.1797 - val_accuracy: 0.1656\n"
          ]
        },
        {
          "output_type": "execute_result",
          "data": {
            "text/plain": [
              "<keras.callbacks.History at 0x7fe5a0a7f070>"
            ]
          },
          "metadata": {},
          "execution_count": 14
        }
      ],
      "source": [
        "# Fit data into model\n",
        "model.fit(train,batch_size=8,validation_data=test,epochs=10)"
      ]
    },
    {
      "cell_type": "code",
      "execution_count": null,
      "metadata": {
        "id": "4qNi2w8d-SgM"
      },
      "outputs": [],
      "source": [
        "# Save model\n",
        "model.save('birdWeights.h5')"
      ]
    },
    {
      "cell_type": "code",
      "execution_count": null,
      "metadata": {
        "id": "jRuFMLNb_yLd"
      },
      "outputs": [],
      "source": [
        "# Import requred libraries for Testing\n",
        "import numpy as np\n",
        "from tensorflow.keras.preprocessing import image"
      ]
    },
    {
      "cell_type": "code",
      "execution_count": null,
      "metadata": {
        "colab": {
          "base_uri": "https://localhost:8080/"
        },
        "id": "xHFdAD22AZOT",
        "outputId": "da4b80c1-71ae-49a5-c1ad-5af13a8f2eab"
      },
      "outputs": [
        {
          "output_type": "stream",
          "name": "stdout",
          "text": [
            "1/1 [==============================] - 0s 118ms/step\n",
            "0\n",
            "blasti\n"
          ]
        }
      ],
      "source": [
        "# Testing 1\n",
        "img1 = image.load_img('/content/test_data/test_data/blasti/DSC_6398.jpg',target_size=(120,120))\n",
        "img1 = image.img_to_array(img1)\n",
        "img1 = np.expand_dims(img1,axis=0)\n",
        "pred = np.argmax(model.predict(img1))\n",
        "print(pred)\n",
        "output = ['blasti', 'bonegl', 'brhkyt', 'cbrtsh', 'cmnmyn', 'gretit', 'hilpig', 'himbul', 'himgri', 'hsparo', 'indvul', 'jglowl', 'lbicrw', 'mgprob', 'rebimg', 'wcrsrt']\n",
        "print(output[pred])"
      ]
    },
    {
      "cell_type": "code",
      "execution_count": null,
      "metadata": {
        "id": "uGMajkqZwVG9"
      },
      "outputs": [],
      "source": [
        "# Classes in data\n",
        "# 'blasti', 'bonegl', 'brhkyt', 'cbrtsh', 'cmnmyn', 'gretit', 'hilpig', 'himbul', 'himgri', 'hsparo', 'indvul', 'jglowl', 'lbicrw', 'mgprob', 'rebimg', 'wcrsrt'"
      ]
    },
    {
      "cell_type": "code",
      "execution_count": null,
      "metadata": {
        "colab": {
          "base_uri": "https://localhost:8080/"
        },
        "id": "0URUHxoMAzNN",
        "outputId": "fac867b3-5944-47a9-c738-e78c84906dcb"
      },
      "outputs": [
        {
          "output_type": "stream",
          "name": "stdout",
          "text": [
            "1/1 [==============================] - 0s 23ms/step\n",
            "0\n",
            "blasti\n"
          ]
        }
      ],
      "source": [
        "# Testing 2\n",
        "img2 = image.load_img('/content/test_data/test_data/cmnmyn/DSC_5137.jpg',target_size=(120,120))\n",
        "img2 = image.img_to_array(img2)\n",
        "img2 = np.expand_dims(img2,axis=0)\n",
        "pred = np.argmax(model.predict(img2))\n",
        "print(pred)\n",
        "output = ['blasti', 'bonegl', 'brhkyt', 'cbrtsh', 'cmnmyn', 'gretit', 'hilpig', 'himbul', 'himgri', 'hsparo', 'indvul', 'jglowl', 'lbicrw', 'mgprob', 'rebimg', 'wcrsrt']\n",
        "print(output[pred])"
      ]
    },
    {
      "cell_type": "code",
      "execution_count": null,
      "metadata": {
        "colab": {
          "base_uri": "https://localhost:8080/"
        },
        "id": "EmKsI-5-A0Ip",
        "outputId": "b87927e8-ce8c-418c-bc46-451fb46503bb"
      },
      "outputs": [
        {
          "output_type": "stream",
          "name": "stdout",
          "text": [
            "1/1 [==============================] - 0s 20ms/step\n",
            "10\n",
            "indvul\n"
          ]
        }
      ],
      "source": [
        "# Testing 3\n",
        "img3 = image.load_img('/content/test_data/test_data/himgri/IMG_5491.JPG',target_size=(120,120))\n",
        "img3 = image.img_to_array(img3)\n",
        "img3 = np.expand_dims(img3,axis=0)\n",
        "pred = np.argmax(model.predict(img3))\n",
        "print(pred)\n",
        "output = ['blasti', 'bonegl', 'brhkyt', 'cbrtsh', 'cmnmyn', 'gretit', 'hilpig', 'himbul', 'himgri', 'hsparo', 'indvul', 'jglowl', 'lbicrw', 'mgprob', 'rebimg', 'wcrsrt']\n",
        "print(output[pred])"
      ]
    },
    {
      "cell_type": "code",
      "execution_count": null,
      "metadata": {
        "colab": {
          "base_uri": "https://localhost:8080/"
        },
        "id": "s_6xPYiHBJa_",
        "outputId": "e2e2052a-7aed-494a-870e-5bacfa2a7126"
      },
      "outputs": [
        {
          "output_type": "stream",
          "name": "stdout",
          "text": [
            "1/1 [==============================] - 0s 19ms/step\n",
            "7\n",
            "himbul\n"
          ]
        }
      ],
      "source": [
        "# Testing 4\n",
        "img4 = image.load_img('/content/test_data/test_data/lbicrw/IMG_5541.JPG',target_size=(120,120))\n",
        "img4 = image.img_to_array(img4)\n",
        "img4 = np.expand_dims(img4,axis=0)\n",
        "pred = np.argmax(model.predict(img4))\n",
        "print(pred)\n",
        "output = ['blasti', 'bonegl', 'brhkyt', 'cbrtsh', 'cmnmyn', 'gretit', 'hilpig', 'himbul', 'himgri', 'hsparo', 'indvul', 'jglowl', 'lbicrw', 'mgprob', 'rebimg', 'wcrsrt']\n",
        "print(output[pred])"
      ]
    },
    {
      "cell_type": "markdown",
      "metadata": {
        "id": "o6dc3xkZ6D-T"
      },
      "source": [
        "*Model tuning (Adding feature extraction layers)*"
      ]
    },
    {
      "cell_type": "code",
      "execution_count": null,
      "metadata": {
        "id": "3CO4_V_TBcDd"
      },
      "outputs": [],
      "source": [
        "# Add feature extraction layers to model and build the model\n",
        "model = Sequential()\n",
        "model.add(Convolution2D(12,(3,3),activation='relu',input_shape=(120, 120, 3)))\n",
        "model.add(MaxPooling2D(pool_size=(2,2)))\n",
        "model.add(Convolution2D(24,(3,3),activation='relu'))\n",
        "model.add(MaxPooling2D(pool_size=(2,2)))\n",
        "model.add(Convolution2D(36,(3,3),activation='relu'))\n",
        "model.add(MaxPooling2D(pool_size=(2,2)))\n",
        "model.add(Flatten())\n",
        "model.add(Dense(62,activation='relu'))\n",
        "model.add(Dense(32,activation='relu'))\n",
        "model.add(Dense(16,activation='relu'))\n",
        "model.add(Dense(16,activation='softmax'))"
      ]
    },
    {
      "cell_type": "code",
      "execution_count": null,
      "metadata": {
        "colab": {
          "base_uri": "https://localhost:8080/"
        },
        "id": "uqQyuPFMBnm9",
        "outputId": "f8d33117-d5f7-40fc-acba-bdb40fa78949"
      },
      "outputs": [
        {
          "output_type": "stream",
          "name": "stdout",
          "text": [
            "Model: \"sequential_1\"\n",
            "_________________________________________________________________\n",
            " Layer (type)                Output Shape              Param #   \n",
            "=================================================================\n",
            " conv2d_1 (Conv2D)           (None, 118, 118, 12)      336       \n",
            "                                                                 \n",
            " max_pooling2d_1 (MaxPooling  (None, 59, 59, 12)       0         \n",
            " 2D)                                                             \n",
            "                                                                 \n",
            " conv2d_2 (Conv2D)           (None, 57, 57, 24)        2616      \n",
            "                                                                 \n",
            " max_pooling2d_2 (MaxPooling  (None, 28, 28, 24)       0         \n",
            " 2D)                                                             \n",
            "                                                                 \n",
            " conv2d_3 (Conv2D)           (None, 26, 26, 36)        7812      \n",
            "                                                                 \n",
            " max_pooling2d_3 (MaxPooling  (None, 13, 13, 36)       0         \n",
            " 2D)                                                             \n",
            "                                                                 \n",
            " flatten_1 (Flatten)         (None, 6084)              0         \n",
            "                                                                 \n",
            " dense_2 (Dense)             (None, 62)                377270    \n",
            "                                                                 \n",
            " dense_3 (Dense)             (None, 32)                2016      \n",
            "                                                                 \n",
            " dense_4 (Dense)             (None, 16)                528       \n",
            "                                                                 \n",
            " dense_5 (Dense)             (None, 16)                272       \n",
            "                                                                 \n",
            "=================================================================\n",
            "Total params: 390,850\n",
            "Trainable params: 390,850\n",
            "Non-trainable params: 0\n",
            "_________________________________________________________________\n"
          ]
        }
      ],
      "source": [
        "# View model details\n",
        "model.summary()"
      ]
    },
    {
      "cell_type": "code",
      "execution_count": null,
      "metadata": {
        "id": "Q_ErnmHt7z4H"
      },
      "outputs": [],
      "source": [
        "# Compile model\n",
        "model.compile(optimizer='adam',loss='categorical_crossentropy',metrics=['accuracy'])"
      ]
    },
    {
      "cell_type": "code",
      "execution_count": null,
      "metadata": {
        "id": "U7c-_5378Pi5",
        "colab": {
          "base_uri": "https://localhost:8080/"
        },
        "outputId": "005acbe1-d817-4224-f8ac-e5e1da3ef6e3"
      },
      "outputs": [
        {
          "output_type": "stream",
          "name": "stdout",
          "text": [
            "Epoch 1/50\n",
            "19/19 [==============================] - 123s 7s/step - loss: 2.7853 - accuracy: 0.0533 - val_loss: 2.7653 - val_accuracy: 0.1274\n",
            "Epoch 2/50\n",
            "19/19 [==============================] - 84s 5s/step - loss: 2.7671 - accuracy: 0.1467 - val_loss: 2.7518 - val_accuracy: 0.1274\n",
            "Epoch 3/50\n",
            "19/19 [==============================] - 82s 4s/step - loss: 2.7314 - accuracy: 0.1400 - val_loss: 2.7045 - val_accuracy: 0.1529\n",
            "Epoch 4/50\n",
            "19/19 [==============================] - 85s 5s/step - loss: 2.6466 - accuracy: 0.1800 - val_loss: 2.7388 - val_accuracy: 0.1592\n",
            "Epoch 5/50\n",
            "19/19 [==============================] - 118s 6s/step - loss: 2.5507 - accuracy: 0.2200 - val_loss: 2.7640 - val_accuracy: 0.1146\n",
            "Epoch 6/50\n",
            "19/19 [==============================] - 85s 5s/step - loss: 2.4893 - accuracy: 0.2200 - val_loss: 2.7561 - val_accuracy: 0.1019\n",
            "Epoch 7/50\n",
            "19/19 [==============================] - 119s 6s/step - loss: 2.4549 - accuracy: 0.2467 - val_loss: 2.7488 - val_accuracy: 0.1529\n",
            "Epoch 8/50\n",
            "19/19 [==============================] - 86s 5s/step - loss: 2.3603 - accuracy: 0.2867 - val_loss: 2.7672 - val_accuracy: 0.1656\n",
            "Epoch 9/50\n",
            "19/19 [==============================] - 85s 5s/step - loss: 2.2760 - accuracy: 0.3067 - val_loss: 2.7386 - val_accuracy: 0.1720\n",
            "Epoch 10/50\n",
            "19/19 [==============================] - 85s 5s/step - loss: 2.1963 - accuracy: 0.3133 - val_loss: 2.6915 - val_accuracy: 0.1783\n",
            "Epoch 11/50\n",
            "19/19 [==============================] - 85s 5s/step - loss: 2.1018 - accuracy: 0.3267 - val_loss: 2.8806 - val_accuracy: 0.1529\n",
            "Epoch 12/50\n",
            "19/19 [==============================] - 84s 5s/step - loss: 2.0273 - accuracy: 0.3000 - val_loss: 2.8536 - val_accuracy: 0.1783\n",
            "Epoch 13/50\n",
            "19/19 [==============================] - 84s 5s/step - loss: 2.0931 - accuracy: 0.3133 - val_loss: 2.7482 - val_accuracy: 0.1847\n",
            "Epoch 14/50\n",
            "19/19 [==============================] - 88s 5s/step - loss: 1.9728 - accuracy: 0.3467 - val_loss: 2.9161 - val_accuracy: 0.1847\n",
            "Epoch 15/50\n",
            "19/19 [==============================] - 87s 5s/step - loss: 1.8578 - accuracy: 0.3667 - val_loss: 2.7438 - val_accuracy: 0.1529\n",
            "Epoch 16/50\n",
            "19/19 [==============================] - 83s 4s/step - loss: 1.7420 - accuracy: 0.3933 - val_loss: 2.9891 - val_accuracy: 0.2357\n",
            "Epoch 17/50\n",
            "19/19 [==============================] - 83s 5s/step - loss: 1.6423 - accuracy: 0.4267 - val_loss: 3.0467 - val_accuracy: 0.2102\n",
            "Epoch 18/50\n",
            "19/19 [==============================] - 82s 4s/step - loss: 1.6345 - accuracy: 0.4133 - val_loss: 2.9141 - val_accuracy: 0.2357\n",
            "Epoch 19/50\n",
            "19/19 [==============================] - 82s 4s/step - loss: 1.4819 - accuracy: 0.4600 - val_loss: 3.0404 - val_accuracy: 0.2420\n",
            "Epoch 20/50\n",
            "19/19 [==============================] - 83s 5s/step - loss: 1.4252 - accuracy: 0.5067 - val_loss: 3.1003 - val_accuracy: 0.2038\n",
            "Epoch 21/50\n",
            "19/19 [==============================] - 83s 5s/step - loss: 1.3219 - accuracy: 0.5267 - val_loss: 3.1438 - val_accuracy: 0.2102\n",
            "Epoch 22/50\n",
            "19/19 [==============================] - 82s 4s/step - loss: 1.2154 - accuracy: 0.5733 - val_loss: 3.5183 - val_accuracy: 0.2166\n",
            "Epoch 23/50\n",
            "19/19 [==============================] - 85s 5s/step - loss: 1.1561 - accuracy: 0.5467 - val_loss: 3.6074 - val_accuracy: 0.2739\n",
            "Epoch 24/50\n",
            "19/19 [==============================] - 83s 4s/step - loss: 1.1072 - accuracy: 0.6400 - val_loss: 3.8575 - val_accuracy: 0.1592\n",
            "Epoch 25/50\n",
            "19/19 [==============================] - 118s 6s/step - loss: 1.0781 - accuracy: 0.6400 - val_loss: 4.3422 - val_accuracy: 0.2611\n",
            "Epoch 26/50\n",
            "19/19 [==============================] - 118s 6s/step - loss: 1.2463 - accuracy: 0.5667 - val_loss: 3.3953 - val_accuracy: 0.1720\n",
            "Epoch 27/50\n",
            "19/19 [==============================] - 84s 5s/step - loss: 1.0669 - accuracy: 0.6200 - val_loss: 3.9141 - val_accuracy: 0.2102\n",
            "Epoch 28/50\n",
            "19/19 [==============================] - 82s 4s/step - loss: 0.8668 - accuracy: 0.6867 - val_loss: 4.5258 - val_accuracy: 0.2675\n",
            "Epoch 29/50\n",
            "19/19 [==============================] - 84s 5s/step - loss: 0.8936 - accuracy: 0.6667 - val_loss: 4.6157 - val_accuracy: 0.2229\n",
            "Epoch 30/50\n",
            "19/19 [==============================] - 82s 4s/step - loss: 0.7434 - accuracy: 0.7667 - val_loss: 4.5867 - val_accuracy: 0.2739\n",
            "Epoch 31/50\n",
            "19/19 [==============================] - 117s 6s/step - loss: 0.5909 - accuracy: 0.8467 - val_loss: 4.7823 - val_accuracy: 0.2739\n",
            "Epoch 32/50\n",
            "19/19 [==============================] - 82s 4s/step - loss: 0.4460 - accuracy: 0.8733 - val_loss: 5.4419 - val_accuracy: 0.2611\n",
            "Epoch 33/50\n",
            "19/19 [==============================] - 83s 5s/step - loss: 0.5142 - accuracy: 0.8333 - val_loss: 6.4135 - val_accuracy: 0.2611\n",
            "Epoch 34/50\n",
            "19/19 [==============================] - 84s 5s/step - loss: 0.6225 - accuracy: 0.8000 - val_loss: 5.2879 - val_accuracy: 0.2739\n",
            "Epoch 35/50\n",
            "19/19 [==============================] - 117s 6s/step - loss: 0.4115 - accuracy: 0.8733 - val_loss: 5.7008 - val_accuracy: 0.2675\n",
            "Epoch 36/50\n",
            "19/19 [==============================] - 83s 4s/step - loss: 0.3499 - accuracy: 0.9133 - val_loss: 6.3705 - val_accuracy: 0.2420\n",
            "Epoch 37/50\n",
            "19/19 [==============================] - 82s 4s/step - loss: 0.3168 - accuracy: 0.9133 - val_loss: 5.9078 - val_accuracy: 0.2866\n",
            "Epoch 38/50\n",
            "19/19 [==============================] - 83s 5s/step - loss: 0.3070 - accuracy: 0.9133 - val_loss: 5.9256 - val_accuracy: 0.2994\n",
            "Epoch 39/50\n",
            "19/19 [==============================] - 82s 4s/step - loss: 0.2253 - accuracy: 0.9400 - val_loss: 6.6692 - val_accuracy: 0.2930\n",
            "Epoch 40/50\n",
            "19/19 [==============================] - 82s 4s/step - loss: 0.4641 - accuracy: 0.8933 - val_loss: 6.6214 - val_accuracy: 0.2229\n",
            "Epoch 41/50\n",
            "19/19 [==============================] - 119s 6s/step - loss: 0.5779 - accuracy: 0.8333 - val_loss: 5.1137 - val_accuracy: 0.2611\n",
            "Epoch 42/50\n",
            "19/19 [==============================] - 84s 4s/step - loss: 0.4502 - accuracy: 0.8667 - val_loss: 5.1650 - val_accuracy: 0.3248\n",
            "Epoch 43/50\n",
            "19/19 [==============================] - 83s 5s/step - loss: 0.2167 - accuracy: 0.9800 - val_loss: 5.8406 - val_accuracy: 0.2994\n",
            "Epoch 44/50\n",
            "19/19 [==============================] - 117s 6s/step - loss: 0.1551 - accuracy: 0.9800 - val_loss: 6.4402 - val_accuracy: 0.3185\n",
            "Epoch 45/50\n",
            "19/19 [==============================] - 82s 4s/step - loss: 0.0855 - accuracy: 0.9933 - val_loss: 7.4651 - val_accuracy: 0.3121\n",
            "Epoch 46/50\n",
            "19/19 [==============================] - 83s 4s/step - loss: 0.0959 - accuracy: 0.9800 - val_loss: 7.5558 - val_accuracy: 0.2803\n",
            "Epoch 47/50\n",
            "19/19 [==============================] - 82s 4s/step - loss: 0.0907 - accuracy: 0.9800 - val_loss: 8.1056 - val_accuracy: 0.2994\n",
            "Epoch 48/50\n",
            "19/19 [==============================] - 117s 6s/step - loss: 0.2148 - accuracy: 0.9400 - val_loss: 8.2699 - val_accuracy: 0.3057\n",
            "Epoch 49/50\n",
            "19/19 [==============================] - 84s 5s/step - loss: 0.3492 - accuracy: 0.9067 - val_loss: 6.9555 - val_accuracy: 0.2803\n",
            "Epoch 50/50\n",
            "19/19 [==============================] - 83s 5s/step - loss: 0.2059 - accuracy: 0.9267 - val_loss: 7.4619 - val_accuracy: 0.3376\n"
          ]
        },
        {
          "output_type": "execute_result",
          "data": {
            "text/plain": [
              "<keras.callbacks.History at 0x7fe62eb2b220>"
            ]
          },
          "metadata": {},
          "execution_count": 25
        }
      ],
      "source": [
        "# Fit data into model\n",
        "model.fit(train,batch_size=8,validation_data=test,epochs=50)"
      ]
    },
    {
      "cell_type": "code",
      "execution_count": null,
      "metadata": {
        "id": "UBk3VWt98abb",
        "colab": {
          "base_uri": "https://localhost:8080/"
        },
        "outputId": "a402cc87-d375-4d47-e0bf-d1a07ae8631d"
      },
      "outputs": [
        {
          "output_type": "stream",
          "name": "stdout",
          "text": [
            "1/1 [==============================] - 0s 198ms/step\n",
            "15\n",
            "wcrsrt\n"
          ]
        }
      ],
      "source": [
        "# Testing 1\n",
        "img1 = image.load_img('/content/test_data/test_data/blasti/DSC_6398.jpg',target_size=(120,120))\n",
        "img1 = image.img_to_array(img1)\n",
        "img1 = np.expand_dims(img1,axis=0)\n",
        "pred = np.argmax(model.predict(img1))\n",
        "print(pred)\n",
        "output = ['blasti', 'bonegl', 'brhkyt', 'cbrtsh', 'cmnmyn', 'gretit', 'hilpig', 'himbul', 'himgri', 'hsparo', 'indvul', 'jglowl', 'lbicrw', 'mgprob', 'rebimg', 'wcrsrt']\n",
        "print(output[pred])"
      ]
    },
    {
      "cell_type": "code",
      "execution_count": null,
      "metadata": {
        "id": "b6CmMTqD-_nq",
        "colab": {
          "base_uri": "https://localhost:8080/"
        },
        "outputId": "d47df408-39cd-4876-9169-fc87e15d222f"
      },
      "outputs": [
        {
          "output_type": "stream",
          "name": "stdout",
          "text": [
            "1/1 [==============================] - 0s 26ms/step\n",
            "7\n",
            "himbul\n"
          ]
        }
      ],
      "source": [
        "# Testing 2\n",
        "img2 = image.load_img('/content/test_data/test_data/cmnmyn/DSC_5137.jpg',target_size=(120,120))\n",
        "img2 = image.img_to_array(img2)\n",
        "img2 = np.expand_dims(img2,axis=0)\n",
        "pred = np.argmax(model.predict(img2))\n",
        "print(pred)\n",
        "output = ['blasti', 'bonegl', 'brhkyt', 'cbrtsh', 'cmnmyn', 'gretit', 'hilpig', 'himbul', 'himgri', 'hsparo', 'indvul', 'jglowl', 'lbicrw', 'mgprob', 'rebimg', 'wcrsrt']\n",
        "print(output[pred])"
      ]
    },
    {
      "cell_type": "code",
      "execution_count": null,
      "metadata": {
        "id": "FfwXtEg6_LS7",
        "colab": {
          "base_uri": "https://localhost:8080/"
        },
        "outputId": "934bcef5-65d2-474f-9799-3cf7d2e00222"
      },
      "outputs": [
        {
          "output_type": "stream",
          "name": "stdout",
          "text": [
            "1/1 [==============================] - 0s 35ms/step\n",
            "8\n",
            "himgri\n"
          ]
        }
      ],
      "source": [
        "# Testing 3\n",
        "img3 = image.load_img('/content/test_data/test_data/himgri/IMG_5491.JPG',target_size=(120,120))\n",
        "img3 = image.img_to_array(img3)\n",
        "img3 = np.expand_dims(img3,axis=0)\n",
        "pred = np.argmax(model.predict(img3))\n",
        "print(pred)\n",
        "output = ['blasti', 'bonegl', 'brhkyt', 'cbrtsh', 'cmnmyn', 'gretit', 'hilpig', 'himbul', 'himgri', 'hsparo', 'indvul', 'jglowl', 'lbicrw', 'mgprob', 'rebimg', 'wcrsrt']\n",
        "print(output[pred])"
      ]
    },
    {
      "cell_type": "code",
      "execution_count": null,
      "metadata": {
        "id": "ClJOKBQn_T9M",
        "colab": {
          "base_uri": "https://localhost:8080/"
        },
        "outputId": "2bcadafa-aeef-4460-8eba-ab29c3c5dcd2"
      },
      "outputs": [
        {
          "output_type": "stream",
          "name": "stdout",
          "text": [
            "1/1 [==============================] - 0s 27ms/step\n",
            "3\n",
            "cbrtsh\n"
          ]
        }
      ],
      "source": [
        "# Testing 4\n",
        "img4 = image.load_img('/content/test_data/test_data/lbicrw/IMG_5541.JPG',target_size=(120,120))\n",
        "img4 = image.img_to_array(img4)\n",
        "img4 = np.expand_dims(img4,axis=0)\n",
        "pred = np.argmax(model.predict(img4))\n",
        "print(pred)\n",
        "output = ['blasti', 'bonegl', 'brhkyt', 'cbrtsh', 'cmnmyn', 'gretit', 'hilpig', 'himbul', 'himgri', 'hsparo', 'indvul', 'jglowl', 'lbicrw', 'mgprob', 'rebimg', 'wcrsrt']\n",
        "print(output[pred])"
      ]
    },
    {
      "cell_type": "code",
      "execution_count": null,
      "metadata": {
        "id": "b7R-FM07_cqn"
      },
      "outputs": [],
      "source": [
        "# Without early stopping the solution is as above"
      ]
    },
    {
      "cell_type": "markdown",
      "metadata": {
        "id": "zR8NocHcBJ_0"
      },
      "source": [
        "*Model tuning (with dropout, batch normalization & early stopping)*"
      ]
    },
    {
      "cell_type": "code",
      "execution_count": null,
      "metadata": {
        "id": "Hv16ieLdCGwG"
      },
      "outputs": [],
      "source": [
        "# Import required libraries\n",
        "from tensorflow.keras.layers import BatchNormalization, Dropout"
      ]
    },
    {
      "cell_type": "code",
      "execution_count": null,
      "metadata": {
        "id": "rG5YhT3oBT8C"
      },
      "outputs": [],
      "source": [
        "# Add Batch Normalization and Dropout to the Model\n",
        "model = Sequential()\n",
        "model.add(Convolution2D(12,(3,3),activation='relu',input_shape=(120, 120, 3)))\n",
        "model.add(BatchNormalization())\n",
        "model.add(MaxPooling2D(pool_size=(2,2)))\n",
        "model.add(Dropout(0.2))\n",
        "model.add(Convolution2D(24,(3,3),activation='relu'))\n",
        "model.add(BatchNormalization())\n",
        "model.add(MaxPooling2D(pool_size=(2,2)))\n",
        "model.add(Dropout(0.2))\n",
        "model.add(Convolution2D(36,(3,3),activation='relu'))\n",
        "model.add(BatchNormalization())\n",
        "model.add(MaxPooling2D(pool_size=(2,2)))\n",
        "model.add(Dropout(0.2))\n",
        "model.add(Flatten())\n",
        "model.add(Dense(62,activation='relu'))\n",
        "model.add(BatchNormalization())\n",
        "model.add(Dropout(0.1))\n",
        "model.add(Dense(32,activation='relu'))\n",
        "model.add(Dense(16,activation='relu'))\n",
        "model.add(Dense(16,activation='softmax'))"
      ]
    },
    {
      "cell_type": "code",
      "execution_count": null,
      "metadata": {
        "id": "st9UEPe4DxMB",
        "colab": {
          "base_uri": "https://localhost:8080/"
        },
        "outputId": "188665d3-39c1-4c26-d3d4-befc43f8655c"
      },
      "outputs": [
        {
          "output_type": "stream",
          "name": "stdout",
          "text": [
            "Model: \"sequential_2\"\n",
            "_________________________________________________________________\n",
            " Layer (type)                Output Shape              Param #   \n",
            "=================================================================\n",
            " conv2d_4 (Conv2D)           (None, 118, 118, 12)      336       \n",
            "                                                                 \n",
            " batch_normalization (BatchN  (None, 118, 118, 12)     48        \n",
            " ormalization)                                                   \n",
            "                                                                 \n",
            " max_pooling2d_4 (MaxPooling  (None, 59, 59, 12)       0         \n",
            " 2D)                                                             \n",
            "                                                                 \n",
            " dropout (Dropout)           (None, 59, 59, 12)        0         \n",
            "                                                                 \n",
            " conv2d_5 (Conv2D)           (None, 57, 57, 24)        2616      \n",
            "                                                                 \n",
            " batch_normalization_1 (Batc  (None, 57, 57, 24)       96        \n",
            " hNormalization)                                                 \n",
            "                                                                 \n",
            " max_pooling2d_5 (MaxPooling  (None, 28, 28, 24)       0         \n",
            " 2D)                                                             \n",
            "                                                                 \n",
            " dropout_1 (Dropout)         (None, 28, 28, 24)        0         \n",
            "                                                                 \n",
            " conv2d_6 (Conv2D)           (None, 26, 26, 36)        7812      \n",
            "                                                                 \n",
            " batch_normalization_2 (Batc  (None, 26, 26, 36)       144       \n",
            " hNormalization)                                                 \n",
            "                                                                 \n",
            " max_pooling2d_6 (MaxPooling  (None, 13, 13, 36)       0         \n",
            " 2D)                                                             \n",
            "                                                                 \n",
            " dropout_2 (Dropout)         (None, 13, 13, 36)        0         \n",
            "                                                                 \n",
            " flatten_2 (Flatten)         (None, 6084)              0         \n",
            "                                                                 \n",
            " dense_6 (Dense)             (None, 62)                377270    \n",
            "                                                                 \n",
            " batch_normalization_3 (Batc  (None, 62)               248       \n",
            " hNormalization)                                                 \n",
            "                                                                 \n",
            " dropout_3 (Dropout)         (None, 62)                0         \n",
            "                                                                 \n",
            " dense_7 (Dense)             (None, 32)                2016      \n",
            "                                                                 \n",
            " dense_8 (Dense)             (None, 16)                528       \n",
            "                                                                 \n",
            " dense_9 (Dense)             (None, 16)                272       \n",
            "                                                                 \n",
            "=================================================================\n",
            "Total params: 391,386\n",
            "Trainable params: 391,118\n",
            "Non-trainable params: 268\n",
            "_________________________________________________________________\n"
          ]
        }
      ],
      "source": [
        "# View Model details\n",
        "model.summary()"
      ]
    },
    {
      "cell_type": "code",
      "execution_count": null,
      "metadata": {
        "id": "yzkzlhV8D6Gi"
      },
      "outputs": [],
      "source": [
        "# Compile the model\n",
        "model.compile(optimizer='adam',loss='categorical_crossentropy',metrics=['accuracy'])"
      ]
    },
    {
      "cell_type": "code",
      "execution_count": null,
      "metadata": {
        "id": "7hGn1XDwElKo"
      },
      "outputs": [],
      "source": [
        "# Import models for early stopping\n",
        "from tensorflow.keras.callbacks import EarlyStopping"
      ]
    },
    {
      "cell_type": "code",
      "execution_count": null,
      "metadata": {
        "id": "Onc404zaE3q-"
      },
      "outputs": [],
      "source": [
        "# Initiailze early stopping with accuracy as metric\n",
        "early_stop = EarlyStopping(monitor='accuracy',patience=8)"
      ]
    },
    {
      "cell_type": "code",
      "execution_count": null,
      "metadata": {
        "id": "xXo2NixxES16",
        "colab": {
          "base_uri": "https://localhost:8080/"
        },
        "outputId": "4b1ff0bf-2aba-4360-d8ff-a84c72611752"
      },
      "outputs": [
        {
          "output_type": "stream",
          "name": "stdout",
          "text": [
            "Epoch 1/50\n",
            "19/19 [==============================] - 89s 5s/step - loss: 2.7926 - accuracy: 0.0933 - val_loss: 2.7530 - val_accuracy: 0.0828\n",
            "Epoch 2/50\n",
            "19/19 [==============================] - 82s 4s/step - loss: 2.5531 - accuracy: 0.1667 - val_loss: 2.8472 - val_accuracy: 0.0573\n",
            "Epoch 3/50\n",
            "19/19 [==============================] - 83s 5s/step - loss: 2.4301 - accuracy: 0.2933 - val_loss: 2.9535 - val_accuracy: 0.0446\n",
            "Epoch 4/50\n",
            "19/19 [==============================] - 82s 4s/step - loss: 2.3175 - accuracy: 0.3267 - val_loss: 2.9512 - val_accuracy: 0.0318\n",
            "Epoch 5/50\n",
            "19/19 [==============================] - 83s 5s/step - loss: 2.2339 - accuracy: 0.3400 - val_loss: 3.1763 - val_accuracy: 0.0573\n",
            "Epoch 6/50\n",
            "19/19 [==============================] - 82s 4s/step - loss: 2.2205 - accuracy: 0.3133 - val_loss: 3.5119 - val_accuracy: 0.0955\n",
            "Epoch 7/50\n",
            "19/19 [==============================] - 84s 5s/step - loss: 2.1017 - accuracy: 0.3867 - val_loss: 3.7131 - val_accuracy: 0.0955\n",
            "Epoch 8/50\n",
            "19/19 [==============================] - 83s 4s/step - loss: 1.9927 - accuracy: 0.4267 - val_loss: 3.9391 - val_accuracy: 0.0955\n",
            "Epoch 9/50\n",
            "19/19 [==============================] - 83s 5s/step - loss: 1.8544 - accuracy: 0.4667 - val_loss: 3.8787 - val_accuracy: 0.0637\n",
            "Epoch 10/50\n",
            "19/19 [==============================] - 82s 4s/step - loss: 1.8648 - accuracy: 0.4400 - val_loss: 3.9947 - val_accuracy: 0.0637\n",
            "Epoch 11/50\n",
            "19/19 [==============================] - 82s 4s/step - loss: 1.7781 - accuracy: 0.4667 - val_loss: 3.8496 - val_accuracy: 0.0637\n",
            "Epoch 12/50\n",
            "19/19 [==============================] - 117s 6s/step - loss: 1.6619 - accuracy: 0.5600 - val_loss: 3.8661 - val_accuracy: 0.0573\n",
            "Epoch 13/50\n",
            "19/19 [==============================] - 83s 5s/step - loss: 1.6594 - accuracy: 0.5333 - val_loss: 3.7649 - val_accuracy: 0.0446\n",
            "Epoch 14/50\n",
            "19/19 [==============================] - 82s 4s/step - loss: 1.5161 - accuracy: 0.5867 - val_loss: 3.9297 - val_accuracy: 0.0573\n",
            "Epoch 15/50\n",
            "19/19 [==============================] - 84s 5s/step - loss: 1.4151 - accuracy: 0.5933 - val_loss: 3.7479 - val_accuracy: 0.1083\n",
            "Epoch 16/50\n",
            "19/19 [==============================] - 83s 5s/step - loss: 1.6040 - accuracy: 0.5533 - val_loss: 4.2082 - val_accuracy: 0.0828\n",
            "Epoch 17/50\n",
            "19/19 [==============================] - 119s 7s/step - loss: 1.5935 - accuracy: 0.5133 - val_loss: 3.9639 - val_accuracy: 0.0637\n",
            "Epoch 18/50\n",
            "19/19 [==============================] - 83s 5s/step - loss: 1.4458 - accuracy: 0.5200 - val_loss: 3.6615 - val_accuracy: 0.1146\n",
            "Epoch 19/50\n",
            "19/19 [==============================] - 85s 5s/step - loss: 1.2774 - accuracy: 0.6333 - val_loss: 3.6759 - val_accuracy: 0.0573\n",
            "Epoch 20/50\n",
            "19/19 [==============================] - 83s 5s/step - loss: 1.2004 - accuracy: 0.6267 - val_loss: 3.2500 - val_accuracy: 0.0637\n",
            "Epoch 21/50\n",
            "19/19 [==============================] - 82s 4s/step - loss: 1.2087 - accuracy: 0.6467 - val_loss: 2.9528 - val_accuracy: 0.1210\n",
            "Epoch 22/50\n",
            "19/19 [==============================] - 82s 4s/step - loss: 1.1848 - accuracy: 0.6667 - val_loss: 3.1663 - val_accuracy: 0.0892\n",
            "Epoch 23/50\n",
            "19/19 [==============================] - 83s 5s/step - loss: 1.1274 - accuracy: 0.6400 - val_loss: 2.9039 - val_accuracy: 0.0955\n",
            "Epoch 24/50\n",
            "19/19 [==============================] - 83s 5s/step - loss: 1.0239 - accuracy: 0.7200 - val_loss: 2.8417 - val_accuracy: 0.1274\n",
            "Epoch 25/50\n",
            "19/19 [==============================] - 84s 5s/step - loss: 0.9996 - accuracy: 0.6867 - val_loss: 3.0492 - val_accuracy: 0.1401\n",
            "Epoch 26/50\n",
            "19/19 [==============================] - 81s 4s/step - loss: 0.9854 - accuracy: 0.6800 - val_loss: 3.1626 - val_accuracy: 0.1083\n",
            "Epoch 27/50\n",
            "19/19 [==============================] - 81s 4s/step - loss: 0.8476 - accuracy: 0.7600 - val_loss: 3.2150 - val_accuracy: 0.1210\n",
            "Epoch 28/50\n",
            "19/19 [==============================] - 80s 4s/step - loss: 0.8244 - accuracy: 0.7533 - val_loss: 3.4326 - val_accuracy: 0.1083\n",
            "Epoch 29/50\n",
            "19/19 [==============================] - 81s 4s/step - loss: 0.7682 - accuracy: 0.7800 - val_loss: 3.2832 - val_accuracy: 0.1083\n",
            "Epoch 30/50\n",
            "19/19 [==============================] - 81s 4s/step - loss: 0.6119 - accuracy: 0.8467 - val_loss: 3.0955 - val_accuracy: 0.1720\n",
            "Epoch 31/50\n",
            "19/19 [==============================] - 80s 4s/step - loss: 0.6928 - accuracy: 0.8067 - val_loss: 3.2585 - val_accuracy: 0.1210\n",
            "Epoch 32/50\n",
            "19/19 [==============================] - 83s 4s/step - loss: 0.6015 - accuracy: 0.8133 - val_loss: 3.3336 - val_accuracy: 0.1465\n",
            "Epoch 33/50\n",
            "19/19 [==============================] - 80s 4s/step - loss: 0.6115 - accuracy: 0.8267 - val_loss: 3.3037 - val_accuracy: 0.2038\n",
            "Epoch 34/50\n",
            "19/19 [==============================] - 82s 4s/step - loss: 0.6095 - accuracy: 0.8200 - val_loss: 3.3147 - val_accuracy: 0.2102\n",
            "Epoch 35/50\n",
            "19/19 [==============================] - 80s 4s/step - loss: 0.5166 - accuracy: 0.8933 - val_loss: 3.7390 - val_accuracy: 0.2166\n",
            "Epoch 36/50\n",
            "19/19 [==============================] - 116s 6s/step - loss: 0.7613 - accuracy: 0.8133 - val_loss: 3.2564 - val_accuracy: 0.2102\n",
            "Epoch 37/50\n",
            "19/19 [==============================] - 80s 4s/step - loss: 0.4555 - accuracy: 0.8867 - val_loss: 3.0856 - val_accuracy: 0.2357\n",
            "Epoch 38/50\n",
            "19/19 [==============================] - 82s 4s/step - loss: 0.6793 - accuracy: 0.8000 - val_loss: 3.4574 - val_accuracy: 0.1911\n",
            "Epoch 39/50\n",
            "19/19 [==============================] - 82s 4s/step - loss: 0.5361 - accuracy: 0.8400 - val_loss: 3.4864 - val_accuracy: 0.1911\n",
            "Epoch 40/50\n",
            "19/19 [==============================] - 83s 4s/step - loss: 0.4648 - accuracy: 0.8733 - val_loss: 3.9401 - val_accuracy: 0.1401\n",
            "Epoch 41/50\n",
            "19/19 [==============================] - 81s 4s/step - loss: 0.6341 - accuracy: 0.8067 - val_loss: 3.4103 - val_accuracy: 0.2293\n",
            "Epoch 42/50\n",
            "19/19 [==============================] - 80s 4s/step - loss: 0.4998 - accuracy: 0.8600 - val_loss: 3.5135 - val_accuracy: 0.1401\n",
            "Epoch 43/50\n",
            "19/19 [==============================] - 82s 4s/step - loss: 0.3333 - accuracy: 0.9400 - val_loss: 3.0255 - val_accuracy: 0.1529\n",
            "Epoch 44/50\n",
            "19/19 [==============================] - 80s 4s/step - loss: 0.4802 - accuracy: 0.9067 - val_loss: 3.3856 - val_accuracy: 0.1465\n",
            "Epoch 45/50\n",
            "19/19 [==============================] - 80s 4s/step - loss: 0.6278 - accuracy: 0.7867 - val_loss: 2.8331 - val_accuracy: 0.2803\n",
            "Epoch 46/50\n",
            "19/19 [==============================] - 82s 4s/step - loss: 0.6012 - accuracy: 0.8333 - val_loss: 3.4567 - val_accuracy: 0.1720\n",
            "Epoch 47/50\n",
            "19/19 [==============================] - 81s 4s/step - loss: 0.4112 - accuracy: 0.8867 - val_loss: 3.9829 - val_accuracy: 0.1656\n",
            "Epoch 48/50\n",
            "19/19 [==============================] - 82s 5s/step - loss: 0.4610 - accuracy: 0.8933 - val_loss: 2.9713 - val_accuracy: 0.2611\n",
            "Epoch 49/50\n",
            "19/19 [==============================] - 81s 4s/step - loss: 0.3250 - accuracy: 0.9267 - val_loss: 3.1484 - val_accuracy: 0.2102\n",
            "Epoch 50/50\n",
            "19/19 [==============================] - 81s 4s/step - loss: 0.3101 - accuracy: 0.9467 - val_loss: 3.6299 - val_accuracy: 0.1592\n"
          ]
        },
        {
          "output_type": "execute_result",
          "data": {
            "text/plain": [
              "<keras.callbacks.History at 0x7fe580266e60>"
            ]
          },
          "metadata": {},
          "execution_count": 37
        }
      ],
      "source": [
        "# Fit the data into model\n",
        "model.fit(train,batch_size=8,validation_data=test,epochs=50,callbacks=early_stop)"
      ]
    },
    {
      "cell_type": "code",
      "execution_count": null,
      "metadata": {
        "id": "LlBh8bCiFmH5",
        "colab": {
          "base_uri": "https://localhost:8080/"
        },
        "outputId": "08875b3c-40de-44c8-d55a-3c3faeb0ba69"
      },
      "outputs": [
        {
          "output_type": "stream",
          "name": "stdout",
          "text": [
            "1/1 [==============================] - 0s 174ms/step\n",
            "2\n",
            "brhkyt\n"
          ]
        }
      ],
      "source": [
        "# Testing 1\n",
        "img1 = image.load_img('/content/test_data/test_data/lbicrw/IMG_5541.JPG',target_size=(120,120))\n",
        "img1 = image.img_to_array(img1)\n",
        "img1 = np.expand_dims(img1,axis=0)\n",
        "pred = np.argmax(model.predict(img1))\n",
        "print(pred)\n",
        "output = ['blasti', 'bonegl', 'brhkyt', 'cbrtsh', 'cmnmyn', 'gretit', 'hilpig', 'himbul', 'himgri', 'hsparo', 'indvul', 'jglowl', 'lbicrw', 'mgprob', 'rebimg', 'wcrsrt']\n",
        "print(output[pred])"
      ]
    },
    {
      "cell_type": "code",
      "execution_count": null,
      "metadata": {
        "id": "duBd18P3JEYu",
        "colab": {
          "base_uri": "https://localhost:8080/"
        },
        "outputId": "ef9071eb-373e-4267-abe0-3f357c2d90cd"
      },
      "outputs": [
        {
          "output_type": "stream",
          "name": "stdout",
          "text": [
            "1/1 [==============================] - 0s 19ms/step\n",
            "2\n",
            "brhkyt\n"
          ]
        }
      ],
      "source": [
        "# Testing 2\n",
        "img2 = image.load_img('/content/test_data/test_data/blasti/DSC_6398.jpg',target_size=(120,120))\n",
        "img2 = image.img_to_array(img2)\n",
        "img2 = np.expand_dims(img2,axis=0)\n",
        "pred = np.argmax(model.predict(img2))\n",
        "print(pred)\n",
        "output = ['blasti', 'bonegl', 'brhkyt', 'cbrtsh', 'cmnmyn', 'gretit', 'hilpig', 'himbul', 'himgri', 'hsparo', 'indvul', 'jglowl', 'lbicrw', 'mgprob', 'rebimg', 'wcrsrt']\n",
        "print(output[pred])"
      ]
    },
    {
      "cell_type": "code",
      "source": [
        "# Testing 3\n",
        "img3 = image.load_img('/content/test_data/test_data/himgri/IMG_5491.JPG',target_size=(120,120))\n",
        "img3 = image.img_to_array(img3)\n",
        "img3 = np.expand_dims(img3,axis=0)\n",
        "pred = np.argmax(model.predict(img3))\n",
        "print(pred)\n",
        "output = ['blasti', 'bonegl', 'brhkyt', 'cbrtsh', 'cmnmyn', 'gretit', 'hilpig', 'himbul', 'himgri', 'hsparo', 'indvul', 'jglowl', 'lbicrw', 'mgprob', 'rebimg', 'wcrsrt']\n",
        "print(output[pred])"
      ],
      "metadata": {
        "colab": {
          "base_uri": "https://localhost:8080/"
        },
        "id": "P8n1IMkXIOhY",
        "outputId": "9c6bc445-3ffb-4202-d9a3-f28b05e23cb7"
      },
      "execution_count": null,
      "outputs": [
        {
          "output_type": "stream",
          "name": "stdout",
          "text": [
            "1/1 [==============================] - 0s 29ms/step\n",
            "2\n",
            "brhkyt\n"
          ]
        }
      ]
    },
    {
      "cell_type": "code",
      "source": [
        "# Testing 4\n",
        "img4 = image.load_img('/content/test_data/test_data/lbicrw/IMG_5541.JPG',target_size=(120,120))\n",
        "img4 = image.img_to_array(img4)\n",
        "img4 = np.expand_dims(img4,axis=0)\n",
        "pred = np.argmax(model.predict(img4))\n",
        "print(pred)\n",
        "output = ['blasti', 'bonegl', 'brhkyt', 'cbrtsh', 'cmnmyn', 'gretit', 'hilpig', 'himbul', 'himgri', 'hsparo', 'indvul', 'jglowl', 'lbicrw', 'mgprob', 'rebimg', 'wcrsrt']\n",
        "print(output[pred])"
      ],
      "metadata": {
        "colab": {
          "base_uri": "https://localhost:8080/"
        },
        "id": "m8gVe-nTIoAZ",
        "outputId": "1ec0310d-0df0-4e64-f6d4-095eadeba97a"
      },
      "execution_count": null,
      "outputs": [
        {
          "output_type": "stream",
          "name": "stdout",
          "text": [
            "1/1 [==============================] - 0s 20ms/step\n",
            "2\n",
            "brhkyt\n"
          ]
        }
      ]
    }
  ],
  "metadata": {
    "accelerator": "GPU",
    "colab": {
      "provenance": []
    },
    "kernelspec": {
      "display_name": "Python 3",
      "name": "python3"
    },
    "language_info": {
      "name": "python"
    }
  },
  "nbformat": 4,
  "nbformat_minor": 0
}