{
 "cells": [
  {
   "cell_type": "code",
   "execution_count": 1,
   "id": "233922be",
   "metadata": {},
   "outputs": [],
   "source": [
    "#importing libraries\n",
    "import numpy as np\n",
    "import pandas as pd\n",
    "import matplotlib.pyplot as plt\n",
    "import seaborn as sns"
   ]
  },
  {
   "cell_type": "code",
   "execution_count": 244,
   "id": "9176421e",
   "metadata": {},
   "outputs": [
    {
     "data": {
      "text/html": [
       "<div>\n",
       "<style scoped>\n",
       "    .dataframe tbody tr th:only-of-type {\n",
       "        vertical-align: middle;\n",
       "    }\n",
       "\n",
       "    .dataframe tbody tr th {\n",
       "        vertical-align: top;\n",
       "    }\n",
       "\n",
       "    .dataframe thead th {\n",
       "        text-align: right;\n",
       "    }\n",
       "</style>\n",
       "<table border=\"1\" class=\"dataframe\">\n",
       "  <thead>\n",
       "    <tr style=\"text-align: right;\">\n",
       "      <th></th>\n",
       "      <th>Age</th>\n",
       "      <th>Sex</th>\n",
       "      <th>BP</th>\n",
       "      <th>Cholesterol</th>\n",
       "      <th>Na_to_K</th>\n",
       "      <th>Drug</th>\n",
       "    </tr>\n",
       "  </thead>\n",
       "  <tbody>\n",
       "    <tr>\n",
       "      <th>0</th>\n",
       "      <td>23</td>\n",
       "      <td>F</td>\n",
       "      <td>HIGH</td>\n",
       "      <td>HIGH</td>\n",
       "      <td>25.355</td>\n",
       "      <td>DrugY</td>\n",
       "    </tr>\n",
       "    <tr>\n",
       "      <th>1</th>\n",
       "      <td>47</td>\n",
       "      <td>M</td>\n",
       "      <td>LOW</td>\n",
       "      <td>HIGH</td>\n",
       "      <td>13.093</td>\n",
       "      <td>drugC</td>\n",
       "    </tr>\n",
       "    <tr>\n",
       "      <th>2</th>\n",
       "      <td>47</td>\n",
       "      <td>M</td>\n",
       "      <td>LOW</td>\n",
       "      <td>HIGH</td>\n",
       "      <td>10.114</td>\n",
       "      <td>drugC</td>\n",
       "    </tr>\n",
       "    <tr>\n",
       "      <th>3</th>\n",
       "      <td>28</td>\n",
       "      <td>F</td>\n",
       "      <td>NORMAL</td>\n",
       "      <td>HIGH</td>\n",
       "      <td>7.798</td>\n",
       "      <td>drugX</td>\n",
       "    </tr>\n",
       "    <tr>\n",
       "      <th>4</th>\n",
       "      <td>61</td>\n",
       "      <td>F</td>\n",
       "      <td>LOW</td>\n",
       "      <td>HIGH</td>\n",
       "      <td>18.043</td>\n",
       "      <td>DrugY</td>\n",
       "    </tr>\n",
       "  </tbody>\n",
       "</table>\n",
       "</div>"
      ],
      "text/plain": [
       "   Age Sex      BP Cholesterol  Na_to_K   Drug\n",
       "0   23   F    HIGH        HIGH   25.355  DrugY\n",
       "1   47   M     LOW        HIGH   13.093  drugC\n",
       "2   47   M     LOW        HIGH   10.114  drugC\n",
       "3   28   F  NORMAL        HIGH    7.798  drugX\n",
       "4   61   F     LOW        HIGH   18.043  DrugY"
      ]
     },
     "execution_count": 244,
     "metadata": {},
     "output_type": "execute_result"
    }
   ],
   "source": [
    "#Task - 1\n",
    "#importing dataset\n",
    "df=pd.read_csv(\"C:\\projects\\AI\\Datasets\\drug200.csv\")\n",
    "df.head()"
   ]
  },
  {
   "cell_type": "code",
   "execution_count": 3,
   "id": "c0234c6d",
   "metadata": {},
   "outputs": [
    {
     "data": {
      "text/plain": [
       "(200, 6)"
      ]
     },
     "execution_count": 3,
     "metadata": {},
     "output_type": "execute_result"
    }
   ],
   "source": [
    "df.shape"
   ]
  },
  {
   "cell_type": "code",
   "execution_count": 192,
   "id": "6cb792c4",
   "metadata": {},
   "outputs": [
    {
     "data": {
      "text/plain": [
       "array(['DrugY', 'drugC', 'drugX', 'drugA', 'drugB'], dtype=object)"
      ]
     },
     "execution_count": 192,
     "metadata": {},
     "output_type": "execute_result"
    }
   ],
   "source": [
    "df['Drug'].unique()"
   ]
  },
  {
   "cell_type": "code",
   "execution_count": 4,
   "id": "fdb7bd60",
   "metadata": {},
   "outputs": [
    {
     "data": {
      "text/html": [
       "<div>\n",
       "<style scoped>\n",
       "    .dataframe tbody tr th:only-of-type {\n",
       "        vertical-align: middle;\n",
       "    }\n",
       "\n",
       "    .dataframe tbody tr th {\n",
       "        vertical-align: top;\n",
       "    }\n",
       "\n",
       "    .dataframe thead th {\n",
       "        text-align: right;\n",
       "    }\n",
       "</style>\n",
       "<table border=\"1\" class=\"dataframe\">\n",
       "  <thead>\n",
       "    <tr style=\"text-align: right;\">\n",
       "      <th></th>\n",
       "      <th>Age</th>\n",
       "      <th>Sex</th>\n",
       "      <th>BP</th>\n",
       "      <th>Cholesterol</th>\n",
       "      <th>Na_to_K</th>\n",
       "      <th>Drug</th>\n",
       "    </tr>\n",
       "  </thead>\n",
       "  <tbody>\n",
       "    <tr>\n",
       "      <th>count</th>\n",
       "      <td>200.000000</td>\n",
       "      <td>200</td>\n",
       "      <td>200</td>\n",
       "      <td>200</td>\n",
       "      <td>200.000000</td>\n",
       "      <td>200</td>\n",
       "    </tr>\n",
       "    <tr>\n",
       "      <th>unique</th>\n",
       "      <td>NaN</td>\n",
       "      <td>2</td>\n",
       "      <td>3</td>\n",
       "      <td>2</td>\n",
       "      <td>NaN</td>\n",
       "      <td>5</td>\n",
       "    </tr>\n",
       "    <tr>\n",
       "      <th>top</th>\n",
       "      <td>NaN</td>\n",
       "      <td>M</td>\n",
       "      <td>HIGH</td>\n",
       "      <td>HIGH</td>\n",
       "      <td>NaN</td>\n",
       "      <td>DrugY</td>\n",
       "    </tr>\n",
       "    <tr>\n",
       "      <th>freq</th>\n",
       "      <td>NaN</td>\n",
       "      <td>104</td>\n",
       "      <td>77</td>\n",
       "      <td>103</td>\n",
       "      <td>NaN</td>\n",
       "      <td>91</td>\n",
       "    </tr>\n",
       "    <tr>\n",
       "      <th>mean</th>\n",
       "      <td>44.315000</td>\n",
       "      <td>NaN</td>\n",
       "      <td>NaN</td>\n",
       "      <td>NaN</td>\n",
       "      <td>16.084485</td>\n",
       "      <td>NaN</td>\n",
       "    </tr>\n",
       "    <tr>\n",
       "      <th>std</th>\n",
       "      <td>16.544315</td>\n",
       "      <td>NaN</td>\n",
       "      <td>NaN</td>\n",
       "      <td>NaN</td>\n",
       "      <td>7.223956</td>\n",
       "      <td>NaN</td>\n",
       "    </tr>\n",
       "    <tr>\n",
       "      <th>min</th>\n",
       "      <td>15.000000</td>\n",
       "      <td>NaN</td>\n",
       "      <td>NaN</td>\n",
       "      <td>NaN</td>\n",
       "      <td>6.269000</td>\n",
       "      <td>NaN</td>\n",
       "    </tr>\n",
       "    <tr>\n",
       "      <th>25%</th>\n",
       "      <td>31.000000</td>\n",
       "      <td>NaN</td>\n",
       "      <td>NaN</td>\n",
       "      <td>NaN</td>\n",
       "      <td>10.445500</td>\n",
       "      <td>NaN</td>\n",
       "    </tr>\n",
       "    <tr>\n",
       "      <th>50%</th>\n",
       "      <td>45.000000</td>\n",
       "      <td>NaN</td>\n",
       "      <td>NaN</td>\n",
       "      <td>NaN</td>\n",
       "      <td>13.936500</td>\n",
       "      <td>NaN</td>\n",
       "    </tr>\n",
       "    <tr>\n",
       "      <th>75%</th>\n",
       "      <td>58.000000</td>\n",
       "      <td>NaN</td>\n",
       "      <td>NaN</td>\n",
       "      <td>NaN</td>\n",
       "      <td>19.380000</td>\n",
       "      <td>NaN</td>\n",
       "    </tr>\n",
       "    <tr>\n",
       "      <th>max</th>\n",
       "      <td>74.000000</td>\n",
       "      <td>NaN</td>\n",
       "      <td>NaN</td>\n",
       "      <td>NaN</td>\n",
       "      <td>38.247000</td>\n",
       "      <td>NaN</td>\n",
       "    </tr>\n",
       "  </tbody>\n",
       "</table>\n",
       "</div>"
      ],
      "text/plain": [
       "               Age  Sex    BP Cholesterol     Na_to_K   Drug\n",
       "count   200.000000  200   200         200  200.000000    200\n",
       "unique         NaN    2     3           2         NaN      5\n",
       "top            NaN    M  HIGH        HIGH         NaN  DrugY\n",
       "freq           NaN  104    77         103         NaN     91\n",
       "mean     44.315000  NaN   NaN         NaN   16.084485    NaN\n",
       "std      16.544315  NaN   NaN         NaN    7.223956    NaN\n",
       "min      15.000000  NaN   NaN         NaN    6.269000    NaN\n",
       "25%      31.000000  NaN   NaN         NaN   10.445500    NaN\n",
       "50%      45.000000  NaN   NaN         NaN   13.936500    NaN\n",
       "75%      58.000000  NaN   NaN         NaN   19.380000    NaN\n",
       "max      74.000000  NaN   NaN         NaN   38.247000    NaN"
      ]
     },
     "execution_count": 4,
     "metadata": {},
     "output_type": "execute_result"
    }
   ],
   "source": [
    "# descriptive stat\n",
    "df.describe(include='all')"
   ]
  },
  {
   "cell_type": "code",
   "execution_count": 5,
   "id": "7551a3c4",
   "metadata": {},
   "outputs": [
    {
     "data": {
      "text/plain": [
       "DrugY    91\n",
       "drugX    54\n",
       "drugA    23\n",
       "drugC    16\n",
       "drugB    16\n",
       "Name: Drug, dtype: int64"
      ]
     },
     "execution_count": 5,
     "metadata": {},
     "output_type": "execute_result"
    }
   ],
   "source": [
    "df['Drug'].value_counts()"
   ]
  },
  {
   "cell_type": "code",
   "execution_count": 6,
   "id": "71c580b2",
   "metadata": {},
   "outputs": [
    {
     "data": {
      "text/plain": [
       "Age            0\n",
       "Sex            0\n",
       "BP             0\n",
       "Cholesterol    0\n",
       "Na_to_K        0\n",
       "Drug           0\n",
       "dtype: int64"
      ]
     },
     "execution_count": 6,
     "metadata": {},
     "output_type": "execute_result"
    }
   ],
   "source": [
    "#checking null values\n",
    "df.isnull().sum()"
   ]
  },
  {
   "cell_type": "code",
   "execution_count": 7,
   "id": "554833dd",
   "metadata": {},
   "outputs": [
    {
     "name": "stdout",
     "output_type": "stream",
     "text": [
      "<class 'pandas.core.frame.DataFrame'>\n",
      "RangeIndex: 200 entries, 0 to 199\n",
      "Data columns (total 6 columns):\n",
      " #   Column       Non-Null Count  Dtype  \n",
      "---  ------       --------------  -----  \n",
      " 0   Age          200 non-null    int64  \n",
      " 1   Sex          200 non-null    object \n",
      " 2   BP           200 non-null    object \n",
      " 3   Cholesterol  200 non-null    object \n",
      " 4   Na_to_K      200 non-null    float64\n",
      " 5   Drug         200 non-null    object \n",
      "dtypes: float64(1), int64(1), object(4)\n",
      "memory usage: 9.5+ KB\n"
     ]
    }
   ],
   "source": [
    "df.info()\n"
   ]
  },
  {
   "cell_type": "code",
   "execution_count": 8,
   "id": "d2e12615",
   "metadata": {},
   "outputs": [
    {
     "name": "stderr",
     "output_type": "stream",
     "text": [
      "C:\\Users\\Rakesh\\anaconda3\\lib\\site-packages\\seaborn\\_decorators.py:36: FutureWarning: Pass the following variable as a keyword arg: x. From version 0.12, the only valid positional argument will be `data`, and passing other arguments without an explicit keyword will result in an error or misinterpretation.\n",
      "  warnings.warn(\n"
     ]
    },
    {
     "data": {
      "text/plain": [
       "<AxesSubplot:xlabel='Age'>"
      ]
     },
     "execution_count": 8,
     "metadata": {},
     "output_type": "execute_result"
    },
    {
     "data": {
      "image/png": "[encoded data removed]",
      "text/plain": [
       "<Figure size 640x480 with 1 Axes>"
      ]
     },
     "metadata": {},
     "output_type": "display_data"
    }
   ],
   "source": [
    "sns.boxplot(df.Age)"
   ]
  },
  {
   "cell_type": "code",
   "execution_count": 9,
   "id": "f71e4bcb",
   "metadata": {},
   "outputs": [
    {
     "name": "stderr",
     "output_type": "stream",
     "text": [
      "C:\\Users\\Rakesh\\anaconda3\\lib\\site-packages\\seaborn\\_decorators.py:36: FutureWarning: Pass the following variable as a keyword arg: x. From version 0.12, the only valid positional argument will be `data`, and passing other arguments without an explicit keyword will result in an error or misinterpretation.\n",
      "  warnings.warn(\n"
     ]
    },
    {
     "data": {
      "text/plain": [
       "<AxesSubplot:xlabel='Na_to_K'>"
      ]
     },
     "execution_count": 9,
     "metadata": {},
     "output_type": "execute_result"
    },
    {
     "data": {
      "image/png": "[encoded data removed]",
      "text/plain": [
       "<Figure size 640x480 with 1 Axes>"
      ]
     },
     "metadata": {},
     "output_type": "display_data"
    }
   ],
   "source": [
    "sns.boxplot(df.Na_to_K)"
   ]
  },
  {
   "cell_type": "code",
   "execution_count": 10,
   "id": "8d55001c",
   "metadata": {},
   "outputs": [],
   "source": [
    "# Replacement of outliers using median\n",
    "#Using IQR\n",
    "\n",
    "q1 = df.Na_to_K.quantile(.25)\n",
    "q3 = df.Na_to_K.quantile(.75)\n",
    "IQR = q3 - q1\n",
    "\n",
    "upper_limit = q3+1.5*IQR\n",
    "lower_limit = q1-1.5*IQR"
   ]
  },
  {
   "cell_type": "code",
   "execution_count": 11,
   "id": "433de4b5",
   "metadata": {},
   "outputs": [
    {
     "name": "stderr",
     "output_type": "stream",
     "text": [
      "C:\\Users\\Rakesh\\AppData\\Local\\Temp\\ipykernel_4992\\530051474.py:1: FutureWarning: Dropping of nuisance columns in DataFrame reductions (with 'numeric_only=None') is deprecated; in a future version this will raise TypeError.  Select only valid columns before calling the reduction.\n",
      "  df.median()\n"
     ]
    },
    {
     "data": {
      "text/plain": [
       "Age        45.0000\n",
       "Na_to_K    13.9365\n",
       "dtype: float64"
      ]
     },
     "execution_count": 11,
     "metadata": {},
     "output_type": "execute_result"
    }
   ],
   "source": [
    "df.median()"
   ]
  },
  {
   "cell_type": "code",
   "execution_count": 12,
   "id": "2350e9cf",
   "metadata": {},
   "outputs": [],
   "source": [
    "df['Na_to_K'] =np.where(df['Na_to_K']>upper_limit,13.9365,df['Na_to_K'])"
   ]
  },
  {
   "cell_type": "code",
   "execution_count": 13,
   "id": "7f9bb29c",
   "metadata": {},
   "outputs": [
    {
     "name": "stderr",
     "output_type": "stream",
     "text": [
      "C:\\Users\\Rakesh\\anaconda3\\lib\\site-packages\\seaborn\\_decorators.py:36: FutureWarning: Pass the following variable as a keyword arg: x. From version 0.12, the only valid positional argument will be `data`, and passing other arguments without an explicit keyword will result in an error or misinterpretation.\n",
      "  warnings.warn(\n"
     ]
    },
    {
     "data": {
      "text/plain": [
       "<AxesSubplot:xlabel='Na_to_K'>"
      ]
     },
     "execution_count": 13,
     "metadata": {},
     "output_type": "execute_result"
    },
    {
     "data": {
      "image/png": "[encoded data removed]",
      "text/plain": [
       "<Figure size 640x480 with 1 Axes>"
      ]
     },
     "metadata": {},
     "output_type": "display_data"
    }
   ],
   "source": [
    "sns.boxplot(df.Na_to_K)"
   ]
  },
  {
   "cell_type": "code",
   "execution_count": null,
   "id": "7b9f3ffa",
   "metadata": {},
   "outputs": [],
   "source": []
  },
  {
   "cell_type": "code",
   "execution_count": 73,
   "id": "8deabd93",
   "metadata": {},
   "outputs": [],
   "source": [
    "#One hot Coding\n",
    "from sklearn.preprocessing import LabelEncoder,MinMaxScaler"
   ]
  },
  {
   "cell_type": "code",
   "execution_count": 118,
   "id": "832e4334",
   "metadata": {},
   "outputs": [],
   "source": [
    "le = LabelEncoder()"
   ]
  },
  {
   "cell_type": "code",
   "execution_count": 132,
   "id": "d4e65f51",
   "metadata": {},
   "outputs": [],
   "source": [
    "df['Sex']= le.fit_transform(df['Sex'])\n",
    "df['BP']= le.fit_transform(df['BP'])\n",
    "df['Cholesterol']= le.fit_transform(df['Cholesterol'])\n",
    "df['Drug'] = le.fit_transform(df['Drug'])\n",
    "\n",
    "scalar =MinMaxScaler()\n",
    "df[['Age','Na_to_K']] =scalar.fit_transform(df[['Age','Na_to_K']])"
   ]
  },
  {
   "cell_type": "code",
   "execution_count": 133,
   "id": "0bb94586",
   "metadata": {},
   "outputs": [],
   "source": [
    "# Spliting the data\n",
    "x = df.drop(columns=['Drug'],axis=1)"
   ]
  },
  {
   "cell_type": "code",
   "execution_count": 134,
   "id": "fb850d2b",
   "metadata": {},
   "outputs": [],
   "source": [
    "y =pd.get_dummies(df['Drug']).values"
   ]
  },
  {
   "cell_type": "code",
   "execution_count": 135,
   "id": "d4797bbb",
   "metadata": {},
   "outputs": [],
   "source": [
    "# Split the training and testing data\n",
    "from sklearn.model_selection import train_test_split"
   ]
  },
  {
   "cell_type": "code",
   "execution_count": 136,
   "id": "a61d2297",
   "metadata": {},
   "outputs": [],
   "source": [
    "# Splitting the data into train and test\n",
    "xtrain,xtest,ytrain,ytest = train_test_split(x,y,test_size=0.2,random_state=21)"
   ]
  },
  {
   "cell_type": "code",
   "execution_count": 207,
   "id": "a1ca5a6c",
   "metadata": {},
   "outputs": [
    {
     "data": {
      "text/plain": [
       "((160, 5), (40, 5), (160, 5), (40, 5))"
      ]
     },
     "execution_count": 207,
     "metadata": {},
     "output_type": "execute_result"
    }
   ],
   "source": [
    "xtrain.shape, xtest.shape, ytrain.shape, ytest.shape"
   ]
  },
  {
   "cell_type": "code",
   "execution_count": 208,
   "id": "545d3192",
   "metadata": {
    "scrolled": true
   },
   "outputs": [],
   "source": [
    "#Task-2\n",
    "from keras.models import Sequential\n",
    "from keras.layers import Dense"
   ]
  },
  {
   "cell_type": "code",
   "execution_count": 209,
   "id": "83ef3b65",
   "metadata": {},
   "outputs": [],
   "source": [
    "# ANN Model\n",
    "model = Sequential()\n",
    "model.add(Dense(8, input_dim=5, activation='relu'))\n",
    "model.add(Dense(16, activation='relu'))\n",
    "model.add(Dense(32, activation='relu'))\n",
    "model.add(Dense(64, activation='relu'))\n",
    "model.add(Dense(128, activation='relu'))\n",
    "model.add(Dense(5, activation='softmax'))"
   ]
  },
  {
   "cell_type": "code",
   "execution_count": 210,
   "id": "0f461cd8",
   "metadata": {},
   "outputs": [],
   "source": [
    "model.compile(optimizer='adam',loss='categorical_crossentropy',metrics=['accuracy'])\n"
   ]
  },
  {
   "cell_type": "code",
   "execution_count": 211,
   "id": "b0739582",
   "metadata": {},
   "outputs": [
    {
     "name": "stdout",
     "output_type": "stream",
     "text": [
      "Model: \"sequential_6\"\n",
      "_________________________________________________________________\n",
      " Layer (type)                Output Shape              Param #   \n",
      "=================================================================\n",
      " dense_36 (Dense)            (None, 8)                 48        \n",
      "                                                                 \n",
      " dense_37 (Dense)            (None, 16)                144       \n",
      "                                                                 \n",
      " dense_38 (Dense)            (None, 32)                544       \n",
      "                                                                 \n",
      " dense_39 (Dense)            (None, 64)                2112      \n",
      "                                                                 \n",
      " dense_40 (Dense)            (None, 128)               8320      \n",
      "                                                                 \n",
      " dense_41 (Dense)            (None, 5)                 645       \n",
      "                                                                 \n",
      "=================================================================\n",
      "Total params: 11,813\n",
      "Trainable params: 11,813\n",
      "Non-trainable params: 0\n",
      "_________________________________________________________________\n"
     ]
    }
   ],
   "source": [
    "model.summary()"
   ]
  },
  {
   "cell_type": "code",
   "execution_count": 214,
   "id": "ffe203df",
   "metadata": {},
   "outputs": [
    {
     "name": "stdout",
     "output_type": "stream",
     "text": [
      "Epoch 1/50\n",
      "32/32 [==============================] - 0s 11ms/step - loss: 0.1169 - accuracy: 0.9500 - val_loss: 0.5565 - val_accuracy: 0.8500\n",
      "Epoch 2/50\n",
      "32/32 [==============================] - 0s 10ms/step - loss: 0.1243 - accuracy: 0.9438 - val_loss: 0.6396 - val_accuracy: 0.8750\n",
      "Epoch 3/50\n",
      "32/32 [==============================] - 0s 9ms/step - loss: 0.0948 - accuracy: 0.9625 - val_loss: 0.5130 - val_accuracy: 0.8500\n",
      "Epoch 4/50\n",
      "32/32 [==============================] - 0s 9ms/step - loss: 0.0875 - accuracy: 0.9563 - val_loss: 0.4758 - val_accuracy: 0.8500\n",
      "Epoch 5/50\n",
      "32/32 [==============================] - 0s 9ms/step - loss: 0.0900 - accuracy: 0.9750 - val_loss: 0.5669 - val_accuracy: 0.8000\n",
      "Epoch 6/50\n",
      "32/32 [==============================] - 0s 9ms/step - loss: 0.0952 - accuracy: 0.9563 - val_loss: 0.6159 - val_accuracy: 0.8500\n",
      "Epoch 7/50\n",
      "32/32 [==============================] - 0s 9ms/step - loss: 0.0974 - accuracy: 0.9500 - val_loss: 0.7010 - val_accuracy: 0.8250\n",
      "Epoch 8/50\n",
      "32/32 [==============================] - 0s 11ms/step - loss: 0.1142 - accuracy: 0.9625 - val_loss: 0.6450 - val_accuracy: 0.8500\n",
      "Epoch 9/50\n",
      "32/32 [==============================] - 0s 10ms/step - loss: 0.1377 - accuracy: 0.9500 - val_loss: 0.7195 - val_accuracy: 0.8250\n",
      "Epoch 10/50\n",
      "32/32 [==============================] - 0s 10ms/step - loss: 0.1641 - accuracy: 0.9312 - val_loss: 0.5647 - val_accuracy: 0.8500\n",
      "Epoch 11/50\n",
      "32/32 [==============================] - 0s 10ms/step - loss: 0.1215 - accuracy: 0.9500 - val_loss: 0.4396 - val_accuracy: 0.9000\n",
      "Epoch 12/50\n",
      "32/32 [==============================] - 0s 9ms/step - loss: 0.1130 - accuracy: 0.9625 - val_loss: 0.3926 - val_accuracy: 0.8750\n",
      "Epoch 13/50\n",
      "32/32 [==============================] - 0s 11ms/step - loss: 0.0757 - accuracy: 0.9750 - val_loss: 0.4318 - val_accuracy: 0.9250\n",
      "Epoch 14/50\n",
      "32/32 [==============================] - 0s 11ms/step - loss: 0.0793 - accuracy: 0.9688 - val_loss: 0.5331 - val_accuracy: 0.8750\n",
      "Epoch 15/50\n",
      "32/32 [==============================] - 0s 10ms/step - loss: 0.0705 - accuracy: 0.9688 - val_loss: 0.3931 - val_accuracy: 0.9250\n",
      "Epoch 16/50\n",
      "32/32 [==============================] - 0s 10ms/step - loss: 0.1222 - accuracy: 0.9500 - val_loss: 0.6185 - val_accuracy: 0.8750\n",
      "Epoch 17/50\n",
      "32/32 [==============================] - 0s 9ms/step - loss: 0.0658 - accuracy: 0.9625 - val_loss: 0.4194 - val_accuracy: 0.9000\n",
      "Epoch 18/50\n",
      "32/32 [==============================] - 0s 10ms/step - loss: 0.0779 - accuracy: 0.9750 - val_loss: 0.4601 - val_accuracy: 0.9000\n",
      "Epoch 19/50\n",
      "32/32 [==============================] - 0s 10ms/step - loss: 0.0630 - accuracy: 0.9812 - val_loss: 0.4628 - val_accuracy: 0.8750\n",
      "Epoch 20/50\n",
      "32/32 [==============================] - 0s 10ms/step - loss: 0.0598 - accuracy: 0.9688 - val_loss: 0.4315 - val_accuracy: 0.8750\n",
      "Epoch 21/50\n",
      "32/32 [==============================] - 0s 9ms/step - loss: 0.0491 - accuracy: 0.9750 - val_loss: 0.5676 - val_accuracy: 0.8750\n",
      "Epoch 22/50\n",
      "32/32 [==============================] - 0s 9ms/step - loss: 0.0869 - accuracy: 0.9688 - val_loss: 0.5205 - val_accuracy: 0.8750\n",
      "Epoch 23/50\n",
      "32/32 [==============================] - 0s 9ms/step - loss: 0.0949 - accuracy: 0.9500 - val_loss: 0.3973 - val_accuracy: 0.9000\n",
      "Epoch 24/50\n",
      "32/32 [==============================] - 0s 9ms/step - loss: 0.0610 - accuracy: 0.9812 - val_loss: 0.4608 - val_accuracy: 0.8750\n",
      "Epoch 25/50\n",
      "32/32 [==============================] - 0s 9ms/step - loss: 0.0646 - accuracy: 0.9688 - val_loss: 0.4389 - val_accuracy: 0.9250\n",
      "Epoch 26/50\n",
      "32/32 [==============================] - 0s 9ms/step - loss: 0.0610 - accuracy: 0.9625 - val_loss: 0.5298 - val_accuracy: 0.8750\n",
      "Epoch 27/50\n",
      "32/32 [==============================] - 0s 9ms/step - loss: 0.1094 - accuracy: 0.9500 - val_loss: 0.5035 - val_accuracy: 0.8750\n",
      "Epoch 28/50\n",
      "32/32 [==============================] - 0s 9ms/step - loss: 0.0817 - accuracy: 0.9750 - val_loss: 0.5183 - val_accuracy: 0.9000\n",
      "Epoch 29/50\n",
      "32/32 [==============================] - 0s 9ms/step - loss: 0.0550 - accuracy: 0.9688 - val_loss: 0.3912 - val_accuracy: 0.9250\n",
      "Epoch 30/50\n",
      "32/32 [==============================] - 0s 9ms/step - loss: 0.0586 - accuracy: 0.9750 - val_loss: 0.4978 - val_accuracy: 0.9000\n",
      "Epoch 31/50\n",
      "32/32 [==============================] - 0s 9ms/step - loss: 0.0831 - accuracy: 0.9625 - val_loss: 0.3927 - val_accuracy: 0.9250\n",
      "Epoch 32/50\n",
      "32/32 [==============================] - 0s 9ms/step - loss: 0.0528 - accuracy: 0.9750 - val_loss: 0.4276 - val_accuracy: 0.9000\n",
      "Epoch 33/50\n",
      "32/32 [==============================] - 0s 10ms/step - loss: 0.0649 - accuracy: 0.9688 - val_loss: 0.4214 - val_accuracy: 0.9500\n",
      "Epoch 34/50\n",
      "32/32 [==============================] - 0s 9ms/step - loss: 0.0513 - accuracy: 0.9750 - val_loss: 0.4709 - val_accuracy: 0.8750\n",
      "Epoch 35/50\n",
      "32/32 [==============================] - 0s 9ms/step - loss: 0.0442 - accuracy: 0.9750 - val_loss: 0.4937 - val_accuracy: 0.9000\n",
      "Epoch 36/50\n",
      "32/32 [==============================] - 0s 9ms/step - loss: 0.0536 - accuracy: 0.9750 - val_loss: 0.4965 - val_accuracy: 0.9000\n",
      "Epoch 37/50\n",
      "32/32 [==============================] - 0s 9ms/step - loss: 0.0605 - accuracy: 0.9688 - val_loss: 0.4216 - val_accuracy: 0.9500\n",
      "Epoch 38/50\n",
      "32/32 [==============================] - 0s 9ms/step - loss: 0.0480 - accuracy: 0.9688 - val_loss: 0.5106 - val_accuracy: 0.8750\n",
      "Epoch 39/50\n",
      "32/32 [==============================] - 0s 9ms/step - loss: 0.0464 - accuracy: 0.9875 - val_loss: 0.4127 - val_accuracy: 0.9500\n",
      "Epoch 40/50\n",
      "32/32 [==============================] - 0s 9ms/step - loss: 0.0979 - accuracy: 0.9563 - val_loss: 0.5227 - val_accuracy: 0.9250\n",
      "Epoch 41/50\n",
      "32/32 [==============================] - 0s 9ms/step - loss: 0.1336 - accuracy: 0.9563 - val_loss: 0.3922 - val_accuracy: 0.9500\n",
      "Epoch 42/50\n",
      "32/32 [==============================] - 0s 10ms/step - loss: 0.0668 - accuracy: 0.9688 - val_loss: 0.4388 - val_accuracy: 0.9000\n",
      "Epoch 43/50\n",
      "32/32 [==============================] - 0s 9ms/step - loss: 0.0524 - accuracy: 0.9688 - val_loss: 0.4493 - val_accuracy: 0.9250\n",
      "Epoch 44/50\n",
      "32/32 [==============================] - 0s 9ms/step - loss: 0.0448 - accuracy: 0.9750 - val_loss: 0.4251 - val_accuracy: 0.9250\n",
      "Epoch 45/50\n",
      "32/32 [==============================] - 0s 9ms/step - loss: 0.0619 - accuracy: 0.9625 - val_loss: 0.6481 - val_accuracy: 0.8750\n",
      "Epoch 46/50\n",
      "32/32 [==============================] - 0s 9ms/step - loss: 0.1207 - accuracy: 0.9375 - val_loss: 0.6066 - val_accuracy: 0.9000\n",
      "Epoch 47/50\n",
      "32/32 [==============================] - 0s 9ms/step - loss: 0.0677 - accuracy: 0.9750 - val_loss: 0.4474 - val_accuracy: 0.9000\n",
      "Epoch 48/50\n",
      "32/32 [==============================] - 0s 9ms/step - loss: 0.0581 - accuracy: 0.9812 - val_loss: 0.3837 - val_accuracy: 0.9250\n",
      "Epoch 49/50\n",
      "32/32 [==============================] - 0s 9ms/step - loss: 0.0531 - accuracy: 0.9688 - val_loss: 0.4384 - val_accuracy: 0.9500\n",
      "Epoch 50/50\n",
      "32/32 [==============================] - 0s 9ms/step - loss: 0.1080 - accuracy: 0.9438 - val_loss: 0.4148 - val_accuracy: 0.9500\n"
     ]
    },
    {
     "data": {
      "text/plain": [
       "<keras.callbacks.History at 0x26da9618ca0>"
      ]
     },
     "execution_count": 214,
     "metadata": {},
     "output_type": "execute_result"
    }
   ],
   "source": [
    "model.fit(xtrain,ytrain,epochs=50,batch_size=5,validation_data=(xtest,ytest))"
   ]
  },
  {
   "cell_type": "code",
   "execution_count": 131,
   "id": "fac30877",
   "metadata": {},
   "outputs": [],
   "source": [
    "#Task - 3\n",
    "#Testing the model"
   ]
  },
  {
   "cell_type": "code",
   "execution_count": 215,
   "id": "d322bd38",
   "metadata": {},
   "outputs": [
    {
     "name": "stdout",
     "output_type": "stream",
     "text": [
      "5/5 [==============================] - 0s 7ms/step - loss: 0.0500 - accuracy: 0.9812\n",
      "Train Accuracy: 0.981249988079071\n",
      "2/2 [==============================] - 0s 14ms/step - loss: 0.4148 - accuracy: 0.9500\n",
      "Test Accuracy: 0.949999988079071\n"
     ]
    }
   ],
   "source": [
    "# Evaluate the model on the training data\n",
    "train_loss, train_accuracy = model.evaluate(xtrain, ytrain)\n",
    "print(\"Train Accuracy:\", train_accuracy)\n",
    "\n",
    "# Evaluate the model on the test data\n",
    "test_loss, test_accuracy = model.evaluate(xtest, ytest)\n",
    "print(\"Test Accuracy:\", test_accuracy)"
   ]
  },
  {
   "cell_type": "code",
   "execution_count": 216,
   "id": "91698e08",
   "metadata": {},
   "outputs": [
    {
     "name": "stdout",
     "output_type": "stream",
     "text": [
      "2/2 [==============================] - 0s 9ms/step\n"
     ]
    }
   ],
   "source": [
    "from sklearn.metrics import hamming_loss, f1_score\n",
    "\n",
    "# Make predictions on the test data\n",
    "predictions = model.predict(xtest)\n",
    "\n",
    "# Convert probabilities to binary predictions\n",
    "binary_predictions = (predictions > 0.5).astype(int)\n",
    "\n",
    "# Calculate Hamming loss\n",
    "hamming_loss_value = hamming_loss(ytest, binary_predictions)\n",
    "\n",
    "# Calculate F1-score\n",
    "f1score = f1_score(ytest, binary_predictions, average='micro')\n"
   ]
  },
  {
   "cell_type": "code",
   "execution_count": 217,
   "id": "2fc7fe5b",
   "metadata": {},
   "outputs": [],
   "source": [
    "from sklearn.preprocessing import LabelEncoder, StandardScaler\n",
    "scaler = StandardScaler()"
   ]
  },
  {
   "cell_type": "code",
   "execution_count": 247,
   "id": "afb570e9",
   "metadata": {},
   "outputs": [
    {
     "name": "stdout",
     "output_type": "stream",
     "text": [
      "1/1 [==============================] - ETA: 0s"
     ]
    },
    {
     "name": "stderr",
     "output_type": "stream",
     "text": [
      "C:\\Users\\Rakesh\\anaconda3\\lib\\site-packages\\sklearn\\base.py:450: UserWarning: X does not have valid feature names, but StandardScaler was fitted with feature names\n",
      "  warnings.warn(\n"
     ]
    },
    {
     "name": "stdout",
     "output_type": "stream",
     "text": [
      "1/1 [==============================] - 0s 79ms/step\n",
      "Test Data: [0.65 1.   0.   0.   0.25]\n",
      "Predicted Drug: drugC\n",
      "\n",
      "Test Data: [0.593 0.    2.    0.    0.788]\n",
      "Predicted Drug: drugY\n",
      "\n",
      "Test Data: [0.84  1.    0.    1.    0.198]\n",
      "Predicted Drug: drugX\n",
      "\n"
     ]
    }
   ],
   "source": [
    "import numpy as np\n",
    "from sklearn.preprocessing import LabelEncoder, StandardScaler\n",
    "from tensorflow import keras\n",
    "from tensorflow.keras import layers\n",
    "\n",
    "# Assuming you have trained and compiled your model\n",
    "\n",
    "# Define the specific data for testing\n",
    "test_data = np.array([[0.65,1, 0,0, 0.2500],  # Example data point 1\n",
    "                      [0.593, 0, 2, 0, 0.788],  # Example data point 2\n",
    "                      [0.84, 1,0, 1, 0.198]])  # Example data point 3\n",
    "#values here are taken in the range of xtrain data\n",
    "\n",
    "# Load the scaler used during training\n",
    "scaler = StandardScaler()\n",
    "scaler.fit(xtrain)  # X_train is the training data used for scaling\n",
    "\n",
    "# Scale the test data using the loaded scaler\n",
    "test_data_scaled = scaler.transform(test_data)\n",
    "\n",
    "# Perform inference on the test data\n",
    "predictions = model.predict(test_data_scaled)\n",
    "predicted_classes = np.argmax(predictions, axis=1)\n",
    "\n",
    "# Map predicted classes back to drug labels\n",
    "label_mapping = {0: \"drugY\", 1: \"drugC\", 2: \"drugX\",3:\"drugA\",4:\"drugB\"}\n",
    "predicted_drugs = [label_mapping[predicted_class] for predicted_class in predicted_classes]\n",
    "\n",
    "# Print the test data and predicted drug classes\n",
    "for i in range(test_data.shape[0]):\n",
    "    print(\"Test Data:\", test_data[i])\n",
    "    print(\"Predicted Drug:\", predicted_drugs[i])\n",
    "    print()"
   ]
  },
  {
   "cell_type": "code",
   "execution_count": null,
   "id": "09bc0da5",
   "metadata": {},
   "outputs": [],
   "source": []
  }
 ],
 "metadata": {
  "kernelspec": {
   "display_name": "Python 3 (ipykernel)",
   "language": "python",
   "name": "python3"
  },
  "language_info": {
   "codemirror_mode": {
    "name": "ipython",
    "version": 3
   },
   "file_extension": ".py",
   "mimetype": "text/x-python",
   "name": "python",
   "nbconvert_exporter": "python",
   "pygments_lexer": "ipython3",
   "version": "3.9.13"
  }
 },
 "nbformat": 4,
 "nbformat_minor": 5
}
