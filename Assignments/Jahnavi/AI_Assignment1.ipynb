{
 "cells": [
  {
   "cell_type": "code",
   "execution_count": 3,
   "id": "68cba5eb",
   "metadata": {},
   "outputs": [],
   "source": [
    "import pandas as pd\n",
    "import numpy as np"
   ]
  },
  {
   "cell_type": "code",
   "execution_count": 6,
   "id": "6760dfff",
   "metadata": {},
   "outputs": [
    {
     "name": "stdout",
     "output_type": "stream",
     "text": [
      "   Feature1  Feature2  Feature3  Feature4\n",
      "0  0.374540  0.950714  0.731994  0.598658\n",
      "1  0.156019  0.155995  0.058084  0.866176\n",
      "2  0.601115  0.708073  0.020584  0.969910\n",
      "3  0.832443  0.212339  0.181825  0.183405\n"
     ]
    }
   ],
   "source": [
    "#Task-1\n",
    "# Set random seed for reproducibility\n",
    "np.random.seed(42)\n",
    "\n",
    "# Create DataFrame\n",
    "df = pd.DataFrame(np.random.rand(4, 4), columns=['Feature1', 'Feature2', 'Feature3', 'Feature4'])\n",
    "print(df)\n"
   ]
  },
  {
   "cell_type": "code",
   "execution_count": 7,
   "id": "145bdc2a",
   "metadata": {},
   "outputs": [
    {
     "name": "stdout",
     "output_type": "stream",
     "text": [
      "   Random value 1  Random value 2  Random value 3  Random value 4\n",
      "0        0.374540        0.950714        0.731994        0.598658\n",
      "1        0.156019        0.155995        0.058084        0.866176\n",
      "2        0.601115        0.708073        0.020584        0.969910\n",
      "3        0.832443        0.212339        0.181825        0.183405\n"
     ]
    }
   ],
   "source": [
    "#Task-2\n",
    "# Rename column names\n",
    "new_column_names = {'Feature1': 'Random value 1', 'Feature2': 'Random value 2', 'Feature3': 'Random value 3', 'Feature4': 'Random value 4'}\n",
    "df = df.rename(columns=new_column_names)\n",
    "\n",
    "print(df)\n"
   ]
  },
  {
   "cell_type": "code",
   "execution_count": 10,
   "id": "16f730b8",
   "metadata": {},
   "outputs": [
    {
     "data": {
      "text/html": [
       "<div>\n",
       "<style scoped>\n",
       "    .dataframe tbody tr th:only-of-type {\n",
       "        vertical-align: middle;\n",
       "    }\n",
       "\n",
       "    .dataframe tbody tr th {\n",
       "        vertical-align: top;\n",
       "    }\n",
       "\n",
       "    .dataframe thead th {\n",
       "        text-align: right;\n",
       "    }\n",
       "</style>\n",
       "<table border=\"1\" class=\"dataframe\">\n",
       "  <thead>\n",
       "    <tr style=\"text-align: right;\">\n",
       "      <th></th>\n",
       "      <th>Random value 1</th>\n",
       "      <th>Random value 2</th>\n",
       "      <th>Random value 3</th>\n",
       "      <th>Random value 4</th>\n",
       "    </tr>\n",
       "  </thead>\n",
       "  <tbody>\n",
       "    <tr>\n",
       "      <th>count</th>\n",
       "      <td>4.000000</td>\n",
       "      <td>4.000000</td>\n",
       "      <td>4.000000</td>\n",
       "      <td>4.000000</td>\n",
       "    </tr>\n",
       "    <tr>\n",
       "      <th>mean</th>\n",
       "      <td>0.491029</td>\n",
       "      <td>0.506780</td>\n",
       "      <td>0.248122</td>\n",
       "      <td>0.654537</td>\n",
       "    </tr>\n",
       "    <tr>\n",
       "      <th>std</th>\n",
       "      <td>0.291252</td>\n",
       "      <td>0.386153</td>\n",
       "      <td>0.329856</td>\n",
       "      <td>0.350875</td>\n",
       "    </tr>\n",
       "    <tr>\n",
       "      <th>min</th>\n",
       "      <td>0.156019</td>\n",
       "      <td>0.155995</td>\n",
       "      <td>0.020584</td>\n",
       "      <td>0.183405</td>\n",
       "    </tr>\n",
       "    <tr>\n",
       "      <th>25%</th>\n",
       "      <td>0.319910</td>\n",
       "      <td>0.198253</td>\n",
       "      <td>0.048709</td>\n",
       "      <td>0.494845</td>\n",
       "    </tr>\n",
       "    <tr>\n",
       "      <th>50%</th>\n",
       "      <td>0.487828</td>\n",
       "      <td>0.460206</td>\n",
       "      <td>0.119954</td>\n",
       "      <td>0.732417</td>\n",
       "    </tr>\n",
       "    <tr>\n",
       "      <th>75%</th>\n",
       "      <td>0.658947</td>\n",
       "      <td>0.768733</td>\n",
       "      <td>0.319367</td>\n",
       "      <td>0.892110</td>\n",
       "    </tr>\n",
       "    <tr>\n",
       "      <th>max</th>\n",
       "      <td>0.832443</td>\n",
       "      <td>0.950714</td>\n",
       "      <td>0.731994</td>\n",
       "      <td>0.969910</td>\n",
       "    </tr>\n",
       "  </tbody>\n",
       "</table>\n",
       "</div>"
      ],
      "text/plain": [
       "       Random value 1  Random value 2  Random value 3  Random value 4\n",
       "count        4.000000        4.000000        4.000000        4.000000\n",
       "mean         0.491029        0.506780        0.248122        0.654537\n",
       "std          0.291252        0.386153        0.329856        0.350875\n",
       "min          0.156019        0.155995        0.020584        0.183405\n",
       "25%          0.319910        0.198253        0.048709        0.494845\n",
       "50%          0.487828        0.460206        0.119954        0.732417\n",
       "75%          0.658947        0.768733        0.319367        0.892110\n",
       "max          0.832443        0.950714        0.731994        0.969910"
      ]
     },
     "execution_count": 10,
     "metadata": {},
     "output_type": "execute_result"
    }
   ],
   "source": [
    "#Task-3\n",
    "df.describe()"
   ]
  },
  {
   "cell_type": "code",
   "execution_count": 21,
   "id": "aa23d863",
   "metadata": {},
   "outputs": [
    {
     "data": {
      "text/plain": [
       "Random value 1    0\n",
       "Random value 2    0\n",
       "Random value 3    0\n",
       "Random value 4    0\n",
       "dtype: int64"
      ]
     },
     "execution_count": 21,
     "metadata": {},
     "output_type": "execute_result"
    }
   ],
   "source": [
    "#Task-4\n",
    "#Checking null values\n",
    "\n",
    "df.isnull().sum()"
   ]
  },
  {
   "cell_type": "code",
   "execution_count": 22,
   "id": "e03f8786",
   "metadata": {},
   "outputs": [
    {
     "data": {
      "text/plain": [
       "Random value 1    float64\n",
       "Random value 2    float64\n",
       "Random value 3    float64\n",
       "Random value 4    float64\n",
       "dtype: object"
      ]
     },
     "execution_count": 22,
     "metadata": {},
     "output_type": "execute_result"
    }
   ],
   "source": [
    "#Data type of each column\n",
    "df.dtypes"
   ]
  },
  {
   "cell_type": "code",
   "execution_count": 31,
   "id": "b2bd9af5",
   "metadata": {},
   "outputs": [
    {
     "name": "stdout",
     "output_type": "stream",
     "text": [
      "Using loc method:\n",
      "    Random value 2  Random value 3\n",
      "0        0.950714        0.731994\n",
      "1        0.155995        0.058084\n",
      "2        0.708073        0.020584\n",
      "3        0.212339        0.181825\n",
      "\n",
      "Using iloc method:\n",
      "    Random value 2  Random value 3\n",
      "0        0.950714        0.731994\n",
      "1        0.155995        0.058084\n",
      "2        0.708073        0.020584\n",
      "3        0.212339        0.181825\n"
     ]
    }
   ],
   "source": [
    "#Task - 5\n",
    "# Display columns using loc method\n",
    "\n",
    "columns_loc = df.loc[:, ['Random value 2', 'Random value 3']]\n",
    "print(\"Using loc method:\\n\", columns_loc)\n",
    "\n",
    "# Display columns using iloc method\n",
    "\n",
    "columns_iloc = df.iloc[:, [1, 2]]\n",
    "print(\"\\nUsing iloc method:\\n\", columns_iloc)"
   ]
  },
  {
   "cell_type": "code",
   "execution_count": null,
   "id": "17802483",
   "metadata": {},
   "outputs": [],
   "source": []
  }
 ],
 "metadata": {
  "kernelspec": {
   "display_name": "Python 3 (ipykernel)",
   "language": "python",
   "name": "python3"
  },
  "language_info": {
   "codemirror_mode": {
    "name": "ipython",
    "version": 3
   },
   "file_extension": ".py",
   "mimetype": "text/x-python",
   "name": "python",
   "nbconvert_exporter": "python",
   "pygments_lexer": "ipython3",
   "version": "3.9.13"
  }
 },
 "nbformat": 4,
 "nbformat_minor": 5
}
