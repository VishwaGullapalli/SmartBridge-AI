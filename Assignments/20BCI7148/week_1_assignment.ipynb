{
  "nbformat": 4,
  "nbformat_minor": 0,
  "metadata": {
    "colab": {
      "provenance": []
    },
    "kernelspec": {
      "name": "python3",
      "display_name": "Python 3"
    },
    "language_info": {
      "name": "python"
    }
  },
  "cells": [
    {
      "cell_type": "code",
      "execution_count": 4,
      "metadata": {
        "colab": {
          "base_uri": "https://localhost:8080/"
        },
        "id": "rJ0BHkpg6xLh",
        "outputId": "811b6d1c-2164-45d7-b79d-38f1625621c2"
      },
      "outputs": [
        {
          "output_type": "stream",
          "name": "stdout",
          "text": [
            "   Feature 1  Feature 2  Feature 3  Feaature 4\n",
            "0  -0.607548  -0.126136  -0.684606    0.928715\n",
            "1  -1.844401  -0.467002   2.292490    0.488810\n",
            "2   0.710267   1.055534   0.054073    0.257953\n",
            "3   0.588282   0.885244  -1.017007   -0.133693\n"
          ]
        }
      ],
      "source": [
        "#TASK - 1\n",
        "import numpy as np\n",
        "import pandas as pd\n",
        "np.random.seed(40)\n",
        "data = np.random.randn(4,4)  # 4 features and 4 observations\n",
        "df = pd.DataFrame(data, columns = ['Feature 1', 'Feature 2', 'Feature 3', 'Feaature 4'])\n",
        "print(df)"
      ]
    },
    {
      "cell_type": "code",
      "source": [
        "#TASK - 2\n",
        "df = df.rename(columns = {'Feature 1': 'Random value 1',\n",
        "                          'Feature 2': 'Random value 2',\n",
        "                          'Feature 3': 'Random value 3',\n",
        "                          'Feature 4': 'Random value 4',})\n",
        "print(df)"
      ],
      "metadata": {
        "colab": {
          "base_uri": "https://localhost:8080/"
        },
        "id": "7Yam2OyA9hDx",
        "outputId": "fd8860d0-8b58-421a-c876-396f6820e34c"
      },
      "execution_count": 5,
      "outputs": [
        {
          "output_type": "stream",
          "name": "stdout",
          "text": [
            "   Random value 1  Random value 2  Random value 3  Feaature 4\n",
            "0       -0.607548       -0.126136       -0.684606    0.928715\n",
            "1       -1.844401       -0.467002        2.292490    0.488810\n",
            "2        0.710267        1.055534        0.054073    0.257953\n",
            "3        0.588282        0.885244       -1.017007   -0.133693\n"
          ]
        }
      ]
    },
    {
      "cell_type": "code",
      "source": [
        "#Task - 3\n",
        "#calculate descriptive statistics\n",
        "statistics = df.describe()\n",
        "print(statistics)"
      ],
      "metadata": {
        "colab": {
          "base_uri": "https://localhost:8080/"
        },
        "id": "gzS-4IjI-PGJ",
        "outputId": "2f477db4-62e5-4412-8bfd-994f76121ad1"
      },
      "execution_count": 6,
      "outputs": [
        {
          "output_type": "stream",
          "name": "stdout",
          "text": [
            "       Random value 1  Random value 2  Random value 3  Feaature 4\n",
            "count        4.000000        4.000000        4.000000    4.000000\n",
            "mean        -0.288350        0.336910        0.161238    0.385446\n",
            "std          1.195673        0.747837        1.489679    0.444066\n",
            "min         -1.844401       -0.467002       -1.017007   -0.133693\n",
            "25%         -0.916761       -0.211353       -0.767707    0.160042\n",
            "50%         -0.009633        0.379554       -0.315267    0.373382\n",
            "75%          0.618778        0.927817        0.613677    0.598786\n",
            "max          0.710267        1.055534        2.292490    0.928715\n"
          ]
        }
      ]
    },
    {
      "cell_type": "code",
      "source": [
        "#TASK - 4\n",
        "#check for null values\n",
        "null_values = df.isnull().sum()\n",
        "print(\"Null Values:\\n\",null_values)\n",
        "#Data type of columns\n",
        "column_types = df.dtypes\n",
        "print(\"\\nData types:\\n\", column_types)"
      ],
      "metadata": {
        "colab": {
          "base_uri": "https://localhost:8080/"
        },
        "id": "GDwkouH0-u1g",
        "outputId": "0bbfbdc7-a4fd-4f41-ebb2-01e8b8fe1526"
      },
      "execution_count": 7,
      "outputs": [
        {
          "output_type": "stream",
          "name": "stdout",
          "text": [
            "Null Values:\n",
            " Random value 1    0\n",
            "Random value 2    0\n",
            "Random value 3    0\n",
            "Feaature 4        0\n",
            "dtype: int64\n",
            "\n",
            "Data types:\n",
            " Random value 1    float64\n",
            "Random value 2    float64\n",
            "Random value 3    float64\n",
            "Feaature 4        float64\n",
            "dtype: object\n"
          ]
        }
      ]
    },
    {
      "cell_type": "code",
      "source": [
        "#Task - 5\n",
        "#using location method\n",
        "columns_loc = df.loc[:, ['Random value 2', 'Random value 3']]\n",
        "print(\"Columns using loc:\\n\", columns_loc)\n",
        "#using index location method\n",
        "columns_iloc = df.iloc[:, [1,2]]\n",
        "print(\"\\nColumns using iloc:\\n\", columns_iloc)"
      ],
      "metadata": {
        "colab": {
          "base_uri": "https://localhost:8080/"
        },
        "id": "LpSUWm9N_mNQ",
        "outputId": "563e8908-4d59-44d1-ee70-99b60d20c855"
      },
      "execution_count": 8,
      "outputs": [
        {
          "output_type": "stream",
          "name": "stdout",
          "text": [
            "Columns using loc:\n",
            "    Random value 2  Random value 3\n",
            "0       -0.126136       -0.684606\n",
            "1       -0.467002        2.292490\n",
            "2        1.055534        0.054073\n",
            "3        0.885244       -1.017007\n",
            "\n",
            "Columns using iloc:\n",
            "    Random value 2  Random value 3\n",
            "0       -0.126136       -0.684606\n",
            "1       -0.467002        2.292490\n",
            "2        1.055534        0.054073\n",
            "3        0.885244       -1.017007\n"
          ]
        }
      ]
    }
  ]
}