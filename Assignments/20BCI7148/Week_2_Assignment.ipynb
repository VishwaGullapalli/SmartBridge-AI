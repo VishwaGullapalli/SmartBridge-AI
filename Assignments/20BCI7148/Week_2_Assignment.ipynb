{
  "cells": [
    {
      "cell_type": "code",
      "execution_count": 1,
      "id": "233922be",
      "metadata": {
        "id": "233922be"
      },
      "outputs": [],
      "source": [
        "#importing libraries\n",
        "import numpy as np\n",
        "import pandas as pd\n",
        "import matplotlib.pyplot as plt\n",
        "import seaborn as sns"
      ]
    },
    {
      "cell_type": "code",
      "execution_count": 3,
      "id": "9176421e",
      "metadata": {
        "colab": {
          "base_uri": "https://localhost:8080/",
          "height": 206
        },
        "id": "9176421e",
        "outputId": "7b575a80-7d9d-4296-8f3f-068eeacbb310"
      },
      "outputs": [
        {
          "output_type": "execute_result",
          "data": {
            "text/plain": [
              "   Age Sex      BP Cholesterol  Na_to_K   Drug\n",
              "0   23   F    HIGH        HIGH   25.355  DrugY\n",
              "1   47   M     LOW        HIGH   13.093  drugC\n",
              "2   47   M     LOW        HIGH   10.114  drugC\n",
              "3   28   F  NORMAL        HIGH    7.798  drugX\n",
              "4   61   F     LOW        HIGH   18.043  DrugY"
            ],
            "text/html": [
              "\n",
              "  <div id=\"df-ed248d39-324e-4744-a3b2-c09ab0eae8e8\">\n",
              "    <div class=\"colab-df-container\">\n",
              "      <div>\n",
              "<style scoped>\n",
              "    .dataframe tbody tr th:only-of-type {\n",
              "        vertical-align: middle;\n",
              "    }\n",
              "\n",
              "    .dataframe tbody tr th {\n",
              "        vertical-align: top;\n",
              "    }\n",
              "\n",
              "    .dataframe thead th {\n",
              "        text-align: right;\n",
              "    }\n",
              "</style>\n",
              "<table border=\"1\" class=\"dataframe\">\n",
              "  <thead>\n",
              "    <tr style=\"text-align: right;\">\n",
              "      <th></th>\n",
              "      <th>Age</th>\n",
              "      <th>Sex</th>\n",
              "      <th>BP</th>\n",
              "      <th>Cholesterol</th>\n",
              "      <th>Na_to_K</th>\n",
              "      <th>Drug</th>\n",
              "    </tr>\n",
              "  </thead>\n",
              "  <tbody>\n",
              "    <tr>\n",
              "      <th>0</th>\n",
              "      <td>23</td>\n",
              "      <td>F</td>\n",
              "      <td>HIGH</td>\n",
              "      <td>HIGH</td>\n",
              "      <td>25.355</td>\n",
              "      <td>DrugY</td>\n",
              "    </tr>\n",
              "    <tr>\n",
              "      <th>1</th>\n",
              "      <td>47</td>\n",
              "      <td>M</td>\n",
              "      <td>LOW</td>\n",
              "      <td>HIGH</td>\n",
              "      <td>13.093</td>\n",
              "      <td>drugC</td>\n",
              "    </tr>\n",
              "    <tr>\n",
              "      <th>2</th>\n",
              "      <td>47</td>\n",
              "      <td>M</td>\n",
              "      <td>LOW</td>\n",
              "      <td>HIGH</td>\n",
              "      <td>10.114</td>\n",
              "      <td>drugC</td>\n",
              "    </tr>\n",
              "    <tr>\n",
              "      <th>3</th>\n",
              "      <td>28</td>\n",
              "      <td>F</td>\n",
              "      <td>NORMAL</td>\n",
              "      <td>HIGH</td>\n",
              "      <td>7.798</td>\n",
              "      <td>drugX</td>\n",
              "    </tr>\n",
              "    <tr>\n",
              "      <th>4</th>\n",
              "      <td>61</td>\n",
              "      <td>F</td>\n",
              "      <td>LOW</td>\n",
              "      <td>HIGH</td>\n",
              "      <td>18.043</td>\n",
              "      <td>DrugY</td>\n",
              "    </tr>\n",
              "  </tbody>\n",
              "</table>\n",
              "</div>\n",
              "      <button class=\"colab-df-convert\" onclick=\"convertToInteractive('df-ed248d39-324e-4744-a3b2-c09ab0eae8e8')\"\n",
              "              title=\"Convert this dataframe to an interactive table.\"\n",
              "              style=\"display:none;\">\n",
              "        \n",
              "  <svg xmlns=\"http://www.w3.org/2000/svg\" height=\"24px\"viewBox=\"0 0 24 24\"\n",
              "       width=\"24px\">\n",
              "    <path d=\"M0 0h24v24H0V0z\" fill=\"none\"/>\n",
              "    <path d=\"M18.56 5.44l.94 2.06.94-2.06 2.06-.94-2.06-.94-.94-2.06-.94 2.06-2.06.94zm-11 1L8.5 8.5l.94-2.06 2.06-.94-2.06-.94L8.5 2.5l-.94 2.06-2.06.94zm10 10l.94 2.06.94-2.06 2.06-.94-2.06-.94-.94-2.06-.94 2.06-2.06.94z\"/><path d=\"M17.41 7.96l-1.37-1.37c-.4-.4-.92-.59-1.43-.59-.52 0-1.04.2-1.43.59L10.3 9.45l-7.72 7.72c-.78.78-.78 2.05 0 2.83L4 21.41c.39.39.9.59 1.41.59.51 0 1.02-.2 1.41-.59l7.78-7.78 2.81-2.81c.8-.78.8-2.07 0-2.86zM5.41 20L4 18.59l7.72-7.72 1.47 1.35L5.41 20z\"/>\n",
              "  </svg>\n",
              "      </button>\n",
              "      \n",
              "  <style>\n",
              "    .colab-df-container {\n",
              "      display:flex;\n",
              "      flex-wrap:wrap;\n",
              "      gap: 12px;\n",
              "    }\n",
              "\n",
              "    .colab-df-convert {\n",
              "      background-color: #E8F0FE;\n",
              "      border: none;\n",
              "      border-radius: 50%;\n",
              "      cursor: pointer;\n",
              "      display: none;\n",
              "      fill: #1967D2;\n",
              "      height: 32px;\n",
              "      padding: 0 0 0 0;\n",
              "      width: 32px;\n",
              "    }\n",
              "\n",
              "    .colab-df-convert:hover {\n",
              "      background-color: #E2EBFA;\n",
              "      box-shadow: 0px 1px 2px rgba(60, 64, 67, 0.3), 0px 1px 3px 1px rgba(60, 64, 67, 0.15);\n",
              "      fill: #174EA6;\n",
              "    }\n",
              "\n",
              "    [theme=dark] .colab-df-convert {\n",
              "      background-color: #3B4455;\n",
              "      fill: #D2E3FC;\n",
              "    }\n",
              "\n",
              "    [theme=dark] .colab-df-convert:hover {\n",
              "      background-color: #434B5C;\n",
              "      box-shadow: 0px 1px 3px 1px rgba(0, 0, 0, 0.15);\n",
              "      filter: drop-shadow(0px 1px 2px rgba(0, 0, 0, 0.3));\n",
              "      fill: #FFFFFF;\n",
              "    }\n",
              "  </style>\n",
              "\n",
              "      <script>\n",
              "        const buttonEl =\n",
              "          document.querySelector('#df-ed248d39-324e-4744-a3b2-c09ab0eae8e8 button.colab-df-convert');\n",
              "        buttonEl.style.display =\n",
              "          google.colab.kernel.accessAllowed ? 'block' : 'none';\n",
              "\n",
              "        async function convertToInteractive(key) {\n",
              "          const element = document.querySelector('#df-ed248d39-324e-4744-a3b2-c09ab0eae8e8');\n",
              "          const dataTable =\n",
              "            await google.colab.kernel.invokeFunction('convertToInteractive',\n",
              "                                                     [key], {});\n",
              "          if (!dataTable) return;\n",
              "\n",
              "          const docLinkHtml = 'Like what you see? Visit the ' +\n",
              "            '<a target=\"_blank\" href=https://colab.research.google.com/notebooks/data_table.ipynb>data table notebook</a>'\n",
              "            + ' to learn more about interactive tables.';\n",
              "          element.innerHTML = '';\n",
              "          dataTable['output_type'] = 'display_data';\n",
              "          await google.colab.output.renderOutput(dataTable, element);\n",
              "          const docLink = document.createElement('div');\n",
              "          docLink.innerHTML = docLinkHtml;\n",
              "          element.appendChild(docLink);\n",
              "        }\n",
              "      </script>\n",
              "    </div>\n",
              "  </div>\n",
              "  "
            ]
          },
          "metadata": {},
          "execution_count": 3
        }
      ],
      "source": [
        "#Task - 1\n",
        "#importing dataset\n",
        "df=pd.read_csv(\"/content/drug200.csv\")\n",
        "df.head()"
      ]
    },
    {
      "cell_type": "code",
      "execution_count": 4,
      "id": "c0234c6d",
      "metadata": {
        "colab": {
          "base_uri": "https://localhost:8080/"
        },
        "id": "c0234c6d",
        "outputId": "1f054c4e-90d3-424e-f875-1b3fdd2395c1"
      },
      "outputs": [
        {
          "output_type": "execute_result",
          "data": {
            "text/plain": [
              "(200, 6)"
            ]
          },
          "metadata": {},
          "execution_count": 4
        }
      ],
      "source": [
        "df.shape"
      ]
    },
    {
      "cell_type": "code",
      "execution_count": 6,
      "id": "6cb792c4",
      "metadata": {
        "colab": {
          "base_uri": "https://localhost:8080/"
        },
        "id": "6cb792c4",
        "outputId": "1603a06b-62f2-4d52-ce12-da9a1f3e73c6"
      },
      "outputs": [
        {
          "output_type": "execute_result",
          "data": {
            "text/plain": [
              "array(['DrugY', 'drugC', 'drugX', 'drugA', 'drugB'], dtype=object)"
            ]
          },
          "metadata": {},
          "execution_count": 6
        }
      ],
      "source": [
        "df['Drug'].unique()"
      ]
    },
    {
      "cell_type": "code",
      "execution_count": 7,
      "id": "fdb7bd60",
      "metadata": {
        "colab": {
          "base_uri": "https://localhost:8080/",
          "height": 394
        },
        "id": "fdb7bd60",
        "outputId": "9d79cb1d-c9c5-412e-b0ba-4b737354414a"
      },
      "outputs": [
        {
          "output_type": "execute_result",
          "data": {
            "text/plain": [
              "               Age  Sex    BP Cholesterol     Na_to_K   Drug\n",
              "count   200.000000  200   200         200  200.000000    200\n",
              "unique         NaN    2     3           2         NaN      5\n",
              "top            NaN    M  HIGH        HIGH         NaN  DrugY\n",
              "freq           NaN  104    77         103         NaN     91\n",
              "mean     44.315000  NaN   NaN         NaN   16.084485    NaN\n",
              "std      16.544315  NaN   NaN         NaN    7.223956    NaN\n",
              "min      15.000000  NaN   NaN         NaN    6.269000    NaN\n",
              "25%      31.000000  NaN   NaN         NaN   10.445500    NaN\n",
              "50%      45.000000  NaN   NaN         NaN   13.936500    NaN\n",
              "75%      58.000000  NaN   NaN         NaN   19.380000    NaN\n",
              "max      74.000000  NaN   NaN         NaN   38.247000    NaN"
            ],
            "text/html": [
              "\n",
              "  <div id=\"df-6f092d37-a58f-445a-8217-f5631ffe960f\">\n",
              "    <div class=\"colab-df-container\">\n",
              "      <div>\n",
              "<style scoped>\n",
              "    .dataframe tbody tr th:only-of-type {\n",
              "        vertical-align: middle;\n",
              "    }\n",
              "\n",
              "    .dataframe tbody tr th {\n",
              "        vertical-align: top;\n",
              "    }\n",
              "\n",
              "    .dataframe thead th {\n",
              "        text-align: right;\n",
              "    }\n",
              "</style>\n",
              "<table border=\"1\" class=\"dataframe\">\n",
              "  <thead>\n",
              "    <tr style=\"text-align: right;\">\n",
              "      <th></th>\n",
              "      <th>Age</th>\n",
              "      <th>Sex</th>\n",
              "      <th>BP</th>\n",
              "      <th>Cholesterol</th>\n",
              "      <th>Na_to_K</th>\n",
              "      <th>Drug</th>\n",
              "    </tr>\n",
              "  </thead>\n",
              "  <tbody>\n",
              "    <tr>\n",
              "      <th>count</th>\n",
              "      <td>200.000000</td>\n",
              "      <td>200</td>\n",
              "      <td>200</td>\n",
              "      <td>200</td>\n",
              "      <td>200.000000</td>\n",
              "      <td>200</td>\n",
              "    </tr>\n",
              "    <tr>\n",
              "      <th>unique</th>\n",
              "      <td>NaN</td>\n",
              "      <td>2</td>\n",
              "      <td>3</td>\n",
              "      <td>2</td>\n",
              "      <td>NaN</td>\n",
              "      <td>5</td>\n",
              "    </tr>\n",
              "    <tr>\n",
              "      <th>top</th>\n",
              "      <td>NaN</td>\n",
              "      <td>M</td>\n",
              "      <td>HIGH</td>\n",
              "      <td>HIGH</td>\n",
              "      <td>NaN</td>\n",
              "      <td>DrugY</td>\n",
              "    </tr>\n",
              "    <tr>\n",
              "      <th>freq</th>\n",
              "      <td>NaN</td>\n",
              "      <td>104</td>\n",
              "      <td>77</td>\n",
              "      <td>103</td>\n",
              "      <td>NaN</td>\n",
              "      <td>91</td>\n",
              "    </tr>\n",
              "    <tr>\n",
              "      <th>mean</th>\n",
              "      <td>44.315000</td>\n",
              "      <td>NaN</td>\n",
              "      <td>NaN</td>\n",
              "      <td>NaN</td>\n",
              "      <td>16.084485</td>\n",
              "      <td>NaN</td>\n",
              "    </tr>\n",
              "    <tr>\n",
              "      <th>std</th>\n",
              "      <td>16.544315</td>\n",
              "      <td>NaN</td>\n",
              "      <td>NaN</td>\n",
              "      <td>NaN</td>\n",
              "      <td>7.223956</td>\n",
              "      <td>NaN</td>\n",
              "    </tr>\n",
              "    <tr>\n",
              "      <th>min</th>\n",
              "      <td>15.000000</td>\n",
              "      <td>NaN</td>\n",
              "      <td>NaN</td>\n",
              "      <td>NaN</td>\n",
              "      <td>6.269000</td>\n",
              "      <td>NaN</td>\n",
              "    </tr>\n",
              "    <tr>\n",
              "      <th>25%</th>\n",
              "      <td>31.000000</td>\n",
              "      <td>NaN</td>\n",
              "      <td>NaN</td>\n",
              "      <td>NaN</td>\n",
              "      <td>10.445500</td>\n",
              "      <td>NaN</td>\n",
              "    </tr>\n",
              "    <tr>\n",
              "      <th>50%</th>\n",
              "      <td>45.000000</td>\n",
              "      <td>NaN</td>\n",
              "      <td>NaN</td>\n",
              "      <td>NaN</td>\n",
              "      <td>13.936500</td>\n",
              "      <td>NaN</td>\n",
              "    </tr>\n",
              "    <tr>\n",
              "      <th>75%</th>\n",
              "      <td>58.000000</td>\n",
              "      <td>NaN</td>\n",
              "      <td>NaN</td>\n",
              "      <td>NaN</td>\n",
              "      <td>19.380000</td>\n",
              "      <td>NaN</td>\n",
              "    </tr>\n",
              "    <tr>\n",
              "      <th>max</th>\n",
              "      <td>74.000000</td>\n",
              "      <td>NaN</td>\n",
              "      <td>NaN</td>\n",
              "      <td>NaN</td>\n",
              "      <td>38.247000</td>\n",
              "      <td>NaN</td>\n",
              "    </tr>\n",
              "  </tbody>\n",
              "</table>\n",
              "</div>\n",
              "      <button class=\"colab-df-convert\" onclick=\"convertToInteractive('df-6f092d37-a58f-445a-8217-f5631ffe960f')\"\n",
              "              title=\"Convert this dataframe to an interactive table.\"\n",
              "              style=\"display:none;\">\n",
              "        \n",
              "  <svg xmlns=\"http://www.w3.org/2000/svg\" height=\"24px\"viewBox=\"0 0 24 24\"\n",
              "       width=\"24px\">\n",
              "    <path d=\"M0 0h24v24H0V0z\" fill=\"none\"/>\n",
              "    <path d=\"M18.56 5.44l.94 2.06.94-2.06 2.06-.94-2.06-.94-.94-2.06-.94 2.06-2.06.94zm-11 1L8.5 8.5l.94-2.06 2.06-.94-2.06-.94L8.5 2.5l-.94 2.06-2.06.94zm10 10l.94 2.06.94-2.06 2.06-.94-2.06-.94-.94-2.06-.94 2.06-2.06.94z\"/><path d=\"M17.41 7.96l-1.37-1.37c-.4-.4-.92-.59-1.43-.59-.52 0-1.04.2-1.43.59L10.3 9.45l-7.72 7.72c-.78.78-.78 2.05 0 2.83L4 21.41c.39.39.9.59 1.41.59.51 0 1.02-.2 1.41-.59l7.78-7.78 2.81-2.81c.8-.78.8-2.07 0-2.86zM5.41 20L4 18.59l7.72-7.72 1.47 1.35L5.41 20z\"/>\n",
              "  </svg>\n",
              "      </button>\n",
              "      \n",
              "  <style>\n",
              "    .colab-df-container {\n",
              "      display:flex;\n",
              "      flex-wrap:wrap;\n",
              "      gap: 12px;\n",
              "    }\n",
              "\n",
              "    .colab-df-convert {\n",
              "      background-color: #E8F0FE;\n",
              "      border: none;\n",
              "      border-radius: 50%;\n",
              "      cursor: pointer;\n",
              "      display: none;\n",
              "      fill: #1967D2;\n",
              "      height: 32px;\n",
              "      padding: 0 0 0 0;\n",
              "      width: 32px;\n",
              "    }\n",
              "\n",
              "    .colab-df-convert:hover {\n",
              "      background-color: #E2EBFA;\n",
              "      box-shadow: 0px 1px 2px rgba(60, 64, 67, 0.3), 0px 1px 3px 1px rgba(60, 64, 67, 0.15);\n",
              "      fill: #174EA6;\n",
              "    }\n",
              "\n",
              "    [theme=dark] .colab-df-convert {\n",
              "      background-color: #3B4455;\n",
              "      fill: #D2E3FC;\n",
              "    }\n",
              "\n",
              "    [theme=dark] .colab-df-convert:hover {\n",
              "      background-color: #434B5C;\n",
              "      box-shadow: 0px 1px 3px 1px rgba(0, 0, 0, 0.15);\n",
              "      filter: drop-shadow(0px 1px 2px rgba(0, 0, 0, 0.3));\n",
              "      fill: #FFFFFF;\n",
              "    }\n",
              "  </style>\n",
              "\n",
              "      <script>\n",
              "        const buttonEl =\n",
              "          document.querySelector('#df-6f092d37-a58f-445a-8217-f5631ffe960f button.colab-df-convert');\n",
              "        buttonEl.style.display =\n",
              "          google.colab.kernel.accessAllowed ? 'block' : 'none';\n",
              "\n",
              "        async function convertToInteractive(key) {\n",
              "          const element = document.querySelector('#df-6f092d37-a58f-445a-8217-f5631ffe960f');\n",
              "          const dataTable =\n",
              "            await google.colab.kernel.invokeFunction('convertToInteractive',\n",
              "                                                     [key], {});\n",
              "          if (!dataTable) return;\n",
              "\n",
              "          const docLinkHtml = 'Like what you see? Visit the ' +\n",
              "            '<a target=\"_blank\" href=https://colab.research.google.com/notebooks/data_table.ipynb>data table notebook</a>'\n",
              "            + ' to learn more about interactive tables.';\n",
              "          element.innerHTML = '';\n",
              "          dataTable['output_type'] = 'display_data';\n",
              "          await google.colab.output.renderOutput(dataTable, element);\n",
              "          const docLink = document.createElement('div');\n",
              "          docLink.innerHTML = docLinkHtml;\n",
              "          element.appendChild(docLink);\n",
              "        }\n",
              "      </script>\n",
              "    </div>\n",
              "  </div>\n",
              "  "
            ]
          },
          "metadata": {},
          "execution_count": 7
        }
      ],
      "source": [
        "# descriptive stat\n",
        "df.describe(include='all')"
      ]
    },
    {
      "cell_type": "code",
      "execution_count": 8,
      "id": "7551a3c4",
      "metadata": {
        "colab": {
          "base_uri": "https://localhost:8080/"
        },
        "id": "7551a3c4",
        "outputId": "de0e90f0-dfae-44ca-ccfe-0e4bd1e15a24"
      },
      "outputs": [
        {
          "output_type": "execute_result",
          "data": {
            "text/plain": [
              "DrugY    91\n",
              "drugX    54\n",
              "drugA    23\n",
              "drugC    16\n",
              "drugB    16\n",
              "Name: Drug, dtype: int64"
            ]
          },
          "metadata": {},
          "execution_count": 8
        }
      ],
      "source": [
        "df['Drug'].value_counts()"
      ]
    },
    {
      "cell_type": "code",
      "execution_count": 9,
      "id": "71c580b2",
      "metadata": {
        "colab": {
          "base_uri": "https://localhost:8080/"
        },
        "id": "71c580b2",
        "outputId": "5401590c-aa80-494e-f69a-59cf4cf81044"
      },
      "outputs": [
        {
          "output_type": "execute_result",
          "data": {
            "text/plain": [
              "Age            0\n",
              "Sex            0\n",
              "BP             0\n",
              "Cholesterol    0\n",
              "Na_to_K        0\n",
              "Drug           0\n",
              "dtype: int64"
            ]
          },
          "metadata": {},
          "execution_count": 9
        }
      ],
      "source": [
        "#checking null values\n",
        "df.isnull().sum()"
      ]
    },
    {
      "cell_type": "code",
      "execution_count": 10,
      "id": "554833dd",
      "metadata": {
        "colab": {
          "base_uri": "https://localhost:8080/"
        },
        "id": "554833dd",
        "outputId": "6e84375a-9d8f-4423-fb43-d42d1bf2cdbb"
      },
      "outputs": [
        {
          "output_type": "stream",
          "name": "stdout",
          "text": [
            "<class 'pandas.core.frame.DataFrame'>\n",
            "RangeIndex: 200 entries, 0 to 199\n",
            "Data columns (total 6 columns):\n",
            " #   Column       Non-Null Count  Dtype  \n",
            "---  ------       --------------  -----  \n",
            " 0   Age          200 non-null    int64  \n",
            " 1   Sex          200 non-null    object \n",
            " 2   BP           200 non-null    object \n",
            " 3   Cholesterol  200 non-null    object \n",
            " 4   Na_to_K      200 non-null    float64\n",
            " 5   Drug         200 non-null    object \n",
            "dtypes: float64(1), int64(1), object(4)\n",
            "memory usage: 9.5+ KB\n"
          ]
        }
      ],
      "source": [
        "df.info()\n"
      ]
    },
    {
      "cell_type": "code",
      "execution_count": 11,
      "id": "d2e12615",
      "metadata": {
        "colab": {
          "base_uri": "https://localhost:8080/",
          "height": 447
        },
        "id": "d2e12615",
        "outputId": "ede76e6c-9ca5-4479-8d5d-57593f01f5bc"
      },
      "outputs": [
        {
          "output_type": "execute_result",
          "data": {
            "text/plain": [
              "<Axes: >"
            ]
          },
          "metadata": {},
          "execution_count": 11
        },
        {
          "output_type": "display_data",
          "data": {
            "text/plain": [
              "<Figure size 640x480 with 1 Axes>"
            ],
            "image/png": "[encoded data removed]"
          },
          "metadata": {}
        }
      ],
      "source": [
        "sns.boxplot(df.Age)"
      ]
    },
    {
      "cell_type": "code",
      "execution_count": 12,
      "id": "f71e4bcb",
      "metadata": {
        "colab": {
          "base_uri": "https://localhost:8080/",
          "height": 447
        },
        "id": "f71e4bcb",
        "outputId": "e8fe9781-5a1d-42b5-defa-765e3b8768a0"
      },
      "outputs": [
        {
          "output_type": "execute_result",
          "data": {
            "text/plain": [
              "<Axes: >"
            ]
          },
          "metadata": {},
          "execution_count": 12
        },
        {
          "output_type": "display_data",
          "data": {
            "text/plain": [
              "<Figure size 640x480 with 1 Axes>"
            ],
            "image/png": "[encoded data removed]"
          },
          "metadata": {}
        }
      ],
      "source": [
        "sns.boxplot(df.Na_to_K)"
      ]
    },
    {
      "cell_type": "code",
      "execution_count": 13,
      "id": "8d55001c",
      "metadata": {
        "id": "8d55001c"
      },
      "outputs": [],
      "source": [
        "# Replacement of outliers using median\n",
        "#Using IQR\n",
        "\n",
        "q1 = df.Na_to_K.quantile(.25)\n",
        "q3 = df.Na_to_K.quantile(.75)\n",
        "IQR = q3 - q1\n",
        "\n",
        "upper_limit = q3+1.5*IQR\n",
        "lower_limit = q1-1.5*IQR"
      ]
    },
    {
      "cell_type": "code",
      "execution_count": 14,
      "id": "433de4b5",
      "metadata": {
        "colab": {
          "base_uri": "https://localhost:8080/"
        },
        "id": "433de4b5",
        "outputId": "70e69cf0-d36a-4542-ab91-9737f04a1851"
      },
      "outputs": [
        {
          "output_type": "stream",
          "name": "stderr",
          "text": [
            "<ipython-input-14-6d467abf240d>:1: FutureWarning: The default value of numeric_only in DataFrame.median is deprecated. In a future version, it will default to False. In addition, specifying 'numeric_only=None' is deprecated. Select only valid columns or specify the value of numeric_only to silence this warning.\n",
            "  df.median()\n"
          ]
        },
        {
          "output_type": "execute_result",
          "data": {
            "text/plain": [
              "Age        45.0000\n",
              "Na_to_K    13.9365\n",
              "dtype: float64"
            ]
          },
          "metadata": {},
          "execution_count": 14
        }
      ],
      "source": [
        "df.median()"
      ]
    },
    {
      "cell_type": "code",
      "execution_count": 15,
      "id": "2350e9cf",
      "metadata": {
        "id": "2350e9cf"
      },
      "outputs": [],
      "source": [
        "df['Na_to_K'] =np.where(df['Na_to_K']>upper_limit,13.9365,df['Na_to_K'])"
      ]
    },
    {
      "cell_type": "code",
      "execution_count": 16,
      "id": "7f9bb29c",
      "metadata": {
        "colab": {
          "base_uri": "https://localhost:8080/",
          "height": 447
        },
        "id": "7f9bb29c",
        "outputId": "6ee7a0ed-08fd-4dfc-b300-8a708705f581"
      },
      "outputs": [
        {
          "output_type": "execute_result",
          "data": {
            "text/plain": [
              "<Axes: >"
            ]
          },
          "metadata": {},
          "execution_count": 16
        },
        {
          "output_type": "display_data",
          "data": {
            "text/plain": [
              "<Figure size 640x480 with 1 Axes>"
            ],
            "image/png": "[encoded data removed]"
          },
          "metadata": {}
        }
      ],
      "source": [
        "sns.boxplot(df.Na_to_K)"
      ]
    },
    {
      "cell_type": "code",
      "execution_count": 17,
      "id": "8deabd93",
      "metadata": {
        "id": "8deabd93"
      },
      "outputs": [],
      "source": [
        "#One hot Coding\n",
        "from sklearn.preprocessing import LabelEncoder,MinMaxScaler"
      ]
    },
    {
      "cell_type": "code",
      "execution_count": 18,
      "id": "832e4334",
      "metadata": {
        "id": "832e4334"
      },
      "outputs": [],
      "source": [
        "le = LabelEncoder()"
      ]
    },
    {
      "cell_type": "code",
      "execution_count": 19,
      "id": "d4e65f51",
      "metadata": {
        "id": "d4e65f51"
      },
      "outputs": [],
      "source": [
        "df['Sex']= le.fit_transform(df['Sex'])\n",
        "df['BP']= le.fit_transform(df['BP'])\n",
        "df['Cholesterol']= le.fit_transform(df['Cholesterol'])\n",
        "df['Drug'] = le.fit_transform(df['Drug'])\n",
        "\n",
        "scalar =MinMaxScaler()\n",
        "df[['Age','Na_to_K']] =scalar.fit_transform(df[['Age','Na_to_K']])"
      ]
    },
    {
      "cell_type": "code",
      "execution_count": 20,
      "id": "0bb94586",
      "metadata": {
        "id": "0bb94586"
      },
      "outputs": [],
      "source": [
        "# Spliting the data\n",
        "x = df.drop(columns=['Drug'],axis=1)"
      ]
    },
    {
      "cell_type": "code",
      "execution_count": 21,
      "id": "fb850d2b",
      "metadata": {
        "id": "fb850d2b"
      },
      "outputs": [],
      "source": [
        "y =pd.get_dummies(df['Drug']).values"
      ]
    },
    {
      "cell_type": "code",
      "execution_count": 22,
      "id": "d4797bbb",
      "metadata": {
        "id": "d4797bbb"
      },
      "outputs": [],
      "source": [
        "# Split the training and testing data\n",
        "from sklearn.model_selection import train_test_split"
      ]
    },
    {
      "cell_type": "code",
      "execution_count": 23,
      "id": "a61d2297",
      "metadata": {
        "id": "a61d2297"
      },
      "outputs": [],
      "source": [
        "# Splitting the data into train and test\n",
        "xtrain,xtest,ytrain,ytest = train_test_split(x,y,test_size=0.2,random_state=21)"
      ]
    },
    {
      "cell_type": "code",
      "execution_count": 24,
      "id": "a1ca5a6c",
      "metadata": {
        "colab": {
          "base_uri": "https://localhost:8080/"
        },
        "id": "a1ca5a6c",
        "outputId": "7fa72683-ca90-4cb5-eb94-88ca1690ceaf"
      },
      "outputs": [
        {
          "output_type": "execute_result",
          "data": {
            "text/plain": [
              "((160, 5), (40, 5), (160, 5), (40, 5))"
            ]
          },
          "metadata": {},
          "execution_count": 24
        }
      ],
      "source": [
        "xtrain.shape, xtest.shape, ytrain.shape, ytest.shape"
      ]
    },
    {
      "cell_type": "code",
      "execution_count": 25,
      "id": "545d3192",
      "metadata": {
        "scrolled": true,
        "id": "545d3192"
      },
      "outputs": [],
      "source": [
        "#Task-2\n",
        "from keras.models import Sequential\n",
        "from keras.layers import Dense"
      ]
    },
    {
      "cell_type": "code",
      "execution_count": 27,
      "id": "83ef3b65",
      "metadata": {
        "id": "83ef3b65"
      },
      "outputs": [],
      "source": [
        "# ANN Model\n",
        "model = Sequential()\n",
        "model.add(Dense(8, input_dim=5, activation='relu'))\n",
        "model.add(Dense(16, activation='relu'))\n",
        "model.add(Dense(32, activation='relu'))\n",
        "model.add(Dense(64, activation='relu'))\n",
        "model.add(Dense(128, activation='relu'))\n",
        "model.add(Dense(5, activation='softmax'))"
      ]
    },
    {
      "cell_type": "code",
      "execution_count": 28,
      "id": "0f461cd8",
      "metadata": {
        "id": "0f461cd8"
      },
      "outputs": [],
      "source": [
        "model.compile(optimizer='adam',loss='categorical_crossentropy',metrics=['accuracy'])\n"
      ]
    },
    {
      "cell_type": "code",
      "execution_count": 29,
      "id": "b0739582",
      "metadata": {
        "colab": {
          "base_uri": "https://localhost:8080/"
        },
        "id": "b0739582",
        "outputId": "41cf83f8-39e9-4970-ed8d-90961b3049d4"
      },
      "outputs": [
        {
          "output_type": "stream",
          "name": "stdout",
          "text": [
            "Model: \"sequential_1\"\n",
            "_________________________________________________________________\n",
            " Layer (type)                Output Shape              Param #   \n",
            "=================================================================\n",
            " dense_6 (Dense)             (None, 8)                 48        \n",
            "                                                                 \n",
            " dense_7 (Dense)             (None, 16)                144       \n",
            "                                                                 \n",
            " dense_8 (Dense)             (None, 32)                544       \n",
            "                                                                 \n",
            " dense_9 (Dense)             (None, 64)                2112      \n",
            "                                                                 \n",
            " dense_10 (Dense)            (None, 128)               8320      \n",
            "                                                                 \n",
            " dense_11 (Dense)            (None, 5)                 645       \n",
            "                                                                 \n",
            "=================================================================\n",
            "Total params: 11,813\n",
            "Trainable params: 11,813\n",
            "Non-trainable params: 0\n",
            "_________________________________________________________________\n"
          ]
        }
      ],
      "source": [
        "model.summary()"
      ]
    },
    {
      "cell_type": "code",
      "execution_count": 30,
      "id": "ffe203df",
      "metadata": {
        "colab": {
          "base_uri": "https://localhost:8080/"
        },
        "id": "ffe203df",
        "outputId": "34ca34a6-f046-459f-88dc-afb865cc1cc3"
      },
      "outputs": [
        {
          "output_type": "stream",
          "name": "stdout",
          "text": [
            "Epoch 1/50\n",
            "32/32 [==============================] - 2s 17ms/step - loss: 1.4897 - accuracy: 0.4313 - val_loss: 1.2995 - val_accuracy: 0.5250\n",
            "Epoch 2/50\n",
            "32/32 [==============================] - 0s 3ms/step - loss: 1.2795 - accuracy: 0.4500 - val_loss: 1.1447 - val_accuracy: 0.5750\n",
            "Epoch 3/50\n",
            "32/32 [==============================] - 0s 3ms/step - loss: 1.1623 - accuracy: 0.5125 - val_loss: 1.0339 - val_accuracy: 0.6000\n",
            "Epoch 4/50\n",
            "32/32 [==============================] - 0s 3ms/step - loss: 1.0690 - accuracy: 0.5250 - val_loss: 0.9595 - val_accuracy: 0.6000\n",
            "Epoch 5/50\n",
            "32/32 [==============================] - 0s 3ms/step - loss: 0.9555 - accuracy: 0.5562 - val_loss: 0.8491 - val_accuracy: 0.5750\n",
            "Epoch 6/50\n",
            "32/32 [==============================] - 0s 3ms/step - loss: 0.8703 - accuracy: 0.5562 - val_loss: 0.8347 - val_accuracy: 0.6000\n",
            "Epoch 7/50\n",
            "32/32 [==============================] - 0s 3ms/step - loss: 0.7705 - accuracy: 0.6062 - val_loss: 0.7538 - val_accuracy: 0.6000\n",
            "Epoch 8/50\n",
            "32/32 [==============================] - 0s 4ms/step - loss: 0.6517 - accuracy: 0.6875 - val_loss: 0.6744 - val_accuracy: 0.6500\n",
            "Epoch 9/50\n",
            "32/32 [==============================] - 0s 3ms/step - loss: 0.6349 - accuracy: 0.6938 - val_loss: 0.7463 - val_accuracy: 0.6250\n",
            "Epoch 10/50\n",
            "32/32 [==============================] - 0s 3ms/step - loss: 0.5924 - accuracy: 0.7312 - val_loss: 0.6799 - val_accuracy: 0.6750\n",
            "Epoch 11/50\n",
            "32/32 [==============================] - 0s 3ms/step - loss: 0.5846 - accuracy: 0.7063 - val_loss: 0.5814 - val_accuracy: 0.6750\n",
            "Epoch 12/50\n",
            "32/32 [==============================] - 0s 3ms/step - loss: 0.5065 - accuracy: 0.8000 - val_loss: 0.6111 - val_accuracy: 0.6750\n",
            "Epoch 13/50\n",
            "32/32 [==============================] - 0s 3ms/step - loss: 0.4546 - accuracy: 0.8250 - val_loss: 0.6579 - val_accuracy: 0.6750\n",
            "Epoch 14/50\n",
            "32/32 [==============================] - 0s 3ms/step - loss: 0.4520 - accuracy: 0.8313 - val_loss: 0.5812 - val_accuracy: 0.7000\n",
            "Epoch 15/50\n",
            "32/32 [==============================] - 0s 4ms/step - loss: 0.4507 - accuracy: 0.8000 - val_loss: 0.6141 - val_accuracy: 0.6500\n",
            "Epoch 16/50\n",
            "32/32 [==============================] - 0s 3ms/step - loss: 0.4170 - accuracy: 0.8500 - val_loss: 0.6500 - val_accuracy: 0.7000\n",
            "Epoch 17/50\n",
            "32/32 [==============================] - 0s 3ms/step - loss: 0.3684 - accuracy: 0.8875 - val_loss: 0.6075 - val_accuracy: 0.6250\n",
            "Epoch 18/50\n",
            "32/32 [==============================] - 0s 3ms/step - loss: 0.3912 - accuracy: 0.8562 - val_loss: 0.5144 - val_accuracy: 0.7000\n",
            "Epoch 19/50\n",
            "32/32 [==============================] - 0s 3ms/step - loss: 0.3104 - accuracy: 0.8938 - val_loss: 0.5675 - val_accuracy: 0.6750\n",
            "Epoch 20/50\n",
            "32/32 [==============================] - 0s 3ms/step - loss: 0.2919 - accuracy: 0.8813 - val_loss: 0.4674 - val_accuracy: 0.7500\n",
            "Epoch 21/50\n",
            "32/32 [==============================] - 0s 4ms/step - loss: 0.2526 - accuracy: 0.9312 - val_loss: 0.4492 - val_accuracy: 0.7750\n",
            "Epoch 22/50\n",
            "32/32 [==============================] - 0s 3ms/step - loss: 0.2829 - accuracy: 0.9062 - val_loss: 0.4541 - val_accuracy: 0.7250\n",
            "Epoch 23/50\n",
            "32/32 [==============================] - 0s 3ms/step - loss: 0.2232 - accuracy: 0.9250 - val_loss: 0.4318 - val_accuracy: 0.7500\n",
            "Epoch 24/50\n",
            "32/32 [==============================] - 0s 3ms/step - loss: 0.2382 - accuracy: 0.9125 - val_loss: 0.4546 - val_accuracy: 0.7750\n",
            "Epoch 25/50\n",
            "32/32 [==============================] - 0s 3ms/step - loss: 0.2062 - accuracy: 0.9438 - val_loss: 0.5283 - val_accuracy: 0.7750\n",
            "Epoch 26/50\n",
            "32/32 [==============================] - 0s 3ms/step - loss: 0.2191 - accuracy: 0.9187 - val_loss: 0.3789 - val_accuracy: 0.7500\n",
            "Epoch 27/50\n",
            "32/32 [==============================] - 0s 3ms/step - loss: 0.1797 - accuracy: 0.9438 - val_loss: 0.4588 - val_accuracy: 0.7750\n",
            "Epoch 28/50\n",
            "32/32 [==============================] - 0s 3ms/step - loss: 0.1746 - accuracy: 0.9375 - val_loss: 0.5225 - val_accuracy: 0.7750\n",
            "Epoch 29/50\n",
            "32/32 [==============================] - 0s 3ms/step - loss: 0.2549 - accuracy: 0.9187 - val_loss: 0.4409 - val_accuracy: 0.7750\n",
            "Epoch 30/50\n",
            "32/32 [==============================] - 0s 3ms/step - loss: 0.2487 - accuracy: 0.9187 - val_loss: 0.3935 - val_accuracy: 0.8000\n",
            "Epoch 31/50\n",
            "32/32 [==============================] - 0s 3ms/step - loss: 0.2067 - accuracy: 0.9000 - val_loss: 0.2870 - val_accuracy: 0.8500\n",
            "Epoch 32/50\n",
            "32/32 [==============================] - 0s 3ms/step - loss: 0.1480 - accuracy: 0.9500 - val_loss: 0.2967 - val_accuracy: 0.8500\n",
            "Epoch 33/50\n",
            "32/32 [==============================] - 0s 3ms/step - loss: 0.1495 - accuracy: 0.9312 - val_loss: 0.3352 - val_accuracy: 0.8250\n",
            "Epoch 34/50\n",
            "32/32 [==============================] - 0s 3ms/step - loss: 0.1557 - accuracy: 0.9187 - val_loss: 0.5150 - val_accuracy: 0.7750\n",
            "Epoch 35/50\n",
            "32/32 [==============================] - 0s 3ms/step - loss: 0.1960 - accuracy: 0.9062 - val_loss: 0.3890 - val_accuracy: 0.8000\n",
            "Epoch 36/50\n",
            "32/32 [==============================] - 0s 3ms/step - loss: 0.2506 - accuracy: 0.9062 - val_loss: 0.2694 - val_accuracy: 0.8500\n",
            "Epoch 37/50\n",
            "32/32 [==============================] - 0s 3ms/step - loss: 0.2818 - accuracy: 0.8938 - val_loss: 0.3899 - val_accuracy: 0.8250\n",
            "Epoch 38/50\n",
            "32/32 [==============================] - 0s 3ms/step - loss: 0.1648 - accuracy: 0.9438 - val_loss: 0.3045 - val_accuracy: 0.8250\n",
            "Epoch 39/50\n",
            "32/32 [==============================] - 0s 3ms/step - loss: 0.1144 - accuracy: 0.9563 - val_loss: 0.2939 - val_accuracy: 0.8500\n",
            "Epoch 40/50\n",
            "32/32 [==============================] - 0s 3ms/step - loss: 0.1009 - accuracy: 0.9688 - val_loss: 0.2462 - val_accuracy: 0.8750\n",
            "Epoch 41/50\n",
            "32/32 [==============================] - 0s 3ms/step - loss: 0.1055 - accuracy: 0.9688 - val_loss: 0.3185 - val_accuracy: 0.8000\n",
            "Epoch 42/50\n",
            "32/32 [==============================] - 0s 3ms/step - loss: 0.0855 - accuracy: 0.9625 - val_loss: 0.4237 - val_accuracy: 0.8500\n",
            "Epoch 43/50\n",
            "32/32 [==============================] - 0s 3ms/step - loss: 0.1167 - accuracy: 0.9563 - val_loss: 0.2944 - val_accuracy: 0.8250\n",
            "Epoch 44/50\n",
            "32/32 [==============================] - 0s 3ms/step - loss: 0.0892 - accuracy: 0.9812 - val_loss: 0.2775 - val_accuracy: 0.8750\n",
            "Epoch 45/50\n",
            "32/32 [==============================] - 0s 3ms/step - loss: 0.1117 - accuracy: 0.9688 - val_loss: 0.4686 - val_accuracy: 0.8000\n",
            "Epoch 46/50\n",
            "32/32 [==============================] - 0s 3ms/step - loss: 0.0922 - accuracy: 0.9625 - val_loss: 0.2335 - val_accuracy: 0.8500\n",
            "Epoch 47/50\n",
            "32/32 [==============================] - 0s 3ms/step - loss: 0.0810 - accuracy: 0.9500 - val_loss: 0.2720 - val_accuracy: 0.8500\n",
            "Epoch 48/50\n",
            "32/32 [==============================] - 0s 3ms/step - loss: 0.0986 - accuracy: 0.9438 - val_loss: 0.3534 - val_accuracy: 0.8500\n",
            "Epoch 49/50\n",
            "32/32 [==============================] - 0s 3ms/step - loss: 0.1266 - accuracy: 0.9500 - val_loss: 0.4032 - val_accuracy: 0.8500\n",
            "Epoch 50/50\n",
            "32/32 [==============================] - 0s 3ms/step - loss: 0.1208 - accuracy: 0.9375 - val_loss: 0.2905 - val_accuracy: 0.8750\n"
          ]
        },
        {
          "output_type": "execute_result",
          "data": {
            "text/plain": [
              "<keras.callbacks.History at 0x7f9dd5c675b0>"
            ]
          },
          "metadata": {},
          "execution_count": 30
        }
      ],
      "source": [
        "model.fit(xtrain,ytrain,epochs=50,batch_size=5,validation_data=(xtest,ytest))"
      ]
    },
    {
      "cell_type": "code",
      "execution_count": 31,
      "id": "fac30877",
      "metadata": {
        "id": "fac30877"
      },
      "outputs": [],
      "source": [
        "#Task - 3\n",
        "#Testing the model"
      ]
    },
    {
      "cell_type": "code",
      "execution_count": 32,
      "id": "d322bd38",
      "metadata": {
        "colab": {
          "base_uri": "https://localhost:8080/"
        },
        "id": "d322bd38",
        "outputId": "21f32c12-b223-4a46-8c28-c4f9a4c7cad9"
      },
      "outputs": [
        {
          "output_type": "stream",
          "name": "stdout",
          "text": [
            "5/5 [==============================] - 1s 6ms/step - loss: 0.0721 - accuracy: 0.9563\n",
            "Train Accuracy: 0.956250011920929\n",
            "2/2 [==============================] - 0s 11ms/step - loss: 0.2905 - accuracy: 0.8750\n",
            "Test Accuracy: 0.875\n"
          ]
        }
      ],
      "source": [
        "# Evaluate the model on the training data\n",
        "train_loss, train_accuracy = model.evaluate(xtrain, ytrain)\n",
        "print(\"Train Accuracy:\", train_accuracy)\n",
        "\n",
        "# Evaluate the model on the test data\n",
        "test_loss, test_accuracy = model.evaluate(xtest, ytest)\n",
        "print(\"Test Accuracy:\", test_accuracy)"
      ]
    },
    {
      "cell_type": "code",
      "execution_count": 33,
      "id": "91698e08",
      "metadata": {
        "colab": {
          "base_uri": "https://localhost:8080/"
        },
        "id": "91698e08",
        "outputId": "5c65e68a-471b-4151-ec19-69c5e6d6a55f"
      },
      "outputs": [
        {
          "output_type": "stream",
          "name": "stdout",
          "text": [
            "2/2 [==============================] - 0s 6ms/step\n"
          ]
        }
      ],
      "source": [
        "from sklearn.metrics import hamming_loss, f1_score\n",
        "\n",
        "# Make predictions on the test data\n",
        "predictions = model.predict(xtest)\n",
        "\n",
        "# Convert probabilities to binary predictions\n",
        "binary_predictions = (predictions > 0.5).astype(int)\n",
        "\n",
        "# Calculate Hamming loss\n",
        "hamming_loss_value = hamming_loss(ytest, binary_predictions)\n",
        "\n",
        "# Calculate F1-score\n",
        "f1score = f1_score(ytest, binary_predictions, average='micro')\n"
      ]
    },
    {
      "cell_type": "code",
      "execution_count": 34,
      "id": "2fc7fe5b",
      "metadata": {
        "id": "2fc7fe5b"
      },
      "outputs": [],
      "source": [
        "from sklearn.preprocessing import LabelEncoder, StandardScaler\n",
        "scaler = StandardScaler()"
      ]
    },
    {
      "cell_type": "code",
      "execution_count": 35,
      "id": "afb570e9",
      "metadata": {
        "colab": {
          "base_uri": "https://localhost:8080/"
        },
        "id": "afb570e9",
        "outputId": "3c7a855c-0331-43ad-ef4f-413c01635ffa"
      },
      "outputs": [
        {
          "output_type": "stream",
          "name": "stdout",
          "text": [
            "1/1 [==============================] - 0s 77ms/step\n",
            "Test Data: [0.65 1.   0.   0.   0.25]\n",
            "Predicted Drug: drugX\n",
            "\n",
            "Test Data: [0.593 0.    2.    0.    0.788]\n",
            "Predicted Drug: drugY\n",
            "\n",
            "Test Data: [0.84  1.    0.    1.    0.198]\n",
            "Predicted Drug: drugX\n",
            "\n"
          ]
        },
        {
          "output_type": "stream",
          "name": "stderr",
          "text": [
            "/usr/local/lib/python3.10/dist-packages/sklearn/base.py:439: UserWarning: X does not have valid feature names, but StandardScaler was fitted with feature names\n",
            "  warnings.warn(\n"
          ]
        }
      ],
      "source": [
        "import numpy as np\n",
        "from sklearn.preprocessing import LabelEncoder, StandardScaler\n",
        "from tensorflow import keras\n",
        "from tensorflow.keras import layers\n",
        "\n",
        "# Assuming you have trained and compiled your model\n",
        "\n",
        "# Define the specific data for testing\n",
        "test_data = np.array([[0.65,1, 0,0, 0.2500],  # Example data point 1\n",
        "                      [0.593, 0, 2, 0, 0.788],  # Example data point 2\n",
        "                      [0.84, 1,0, 1, 0.198]])  # Example data point 3\n",
        "#values here are taken in the range of xtrain data\n",
        "\n",
        "# Load the scaler used during training\n",
        "scaler = StandardScaler()\n",
        "scaler.fit(xtrain)  # X_train is the training data used for scaling\n",
        "\n",
        "# Scale the test data using the loaded scaler\n",
        "test_data_scaled = scaler.transform(test_data)\n",
        "\n",
        "# Perform inference on the test data\n",
        "predictions = model.predict(test_data_scaled)\n",
        "predicted_classes = np.argmax(predictions, axis=1)\n",
        "\n",
        "# Map predicted classes back to drug labels\n",
        "label_mapping = {0: \"drugY\", 1: \"drugC\", 2: \"drugX\",3:\"drugA\",4:\"drugB\"}\n",
        "predicted_drugs = [label_mapping[predicted_class] for predicted_class in predicted_classes]\n",
        "\n",
        "# Print the test data and predicted drug classes\n",
        "for i in range(test_data.shape[0]):\n",
        "    print(\"Test Data:\", test_data[i])\n",
        "    print(\"Predicted Drug:\", predicted_drugs[i])\n",
        "    print()"
      ]
    },
    {
      "cell_type": "code",
      "execution_count": null,
      "id": "09bc0da5",
      "metadata": {
        "id": "09bc0da5"
      },
      "outputs": [],
      "source": []
    }
  ],
  "metadata": {
    "kernelspec": {
      "display_name": "Python 3 (ipykernel)",
      "language": "python",
      "name": "python3"
    },
    "language_info": {
      "codemirror_mode": {
        "name": "ipython",
        "version": 3
      },
      "file_extension": ".py",
      "mimetype": "text/x-python",
      "name": "python",
      "nbconvert_exporter": "python",
      "pygments_lexer": "ipython3",
      "version": "3.9.13"
    },
    "colab": {
      "provenance": []
    }
  },
  "nbformat": 4,
  "nbformat_minor": 5
}